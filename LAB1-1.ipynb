{
 "cells": [
  {
   "cell_type": "code",
   "execution_count": 1,
   "metadata": {},
   "outputs": [],
   "source": [
    "#importaciones de las librerias\n",
    "import numpy as np\n",
    "import pandas as pd\n",
    "from IPython.core import display as disp\n",
    "import matplotlib.pyplot as plt"
   ]
  },
  {
   "cell_type": "code",
   "execution_count": 2,
   "metadata": {},
   "outputs": [
    {
     "data": {
      "text/html": [
       "<div>\n",
       "<style scoped>\n",
       "    .dataframe tbody tr th:only-of-type {\n",
       "        vertical-align: middle;\n",
       "    }\n",
       "\n",
       "    .dataframe tbody tr th {\n",
       "        vertical-align: top;\n",
       "    }\n",
       "\n",
       "    .dataframe thead th {\n",
       "        text-align: right;\n",
       "    }\n",
       "</style>\n",
       "<table border=\"1\" class=\"dataframe\">\n",
       "  <thead>\n",
       "    <tr style=\"text-align: right;\">\n",
       "      <th></th>\n",
       "      <th>Month</th>\n",
       "      <th>Day_of_month</th>\n",
       "      <th>Day_of_week</th>\n",
       "      <th>ozone_reading</th>\n",
       "      <th>pressure_height</th>\n",
       "      <th>Wind_speed</th>\n",
       "      <th>Humidity</th>\n",
       "      <th>Temperature_Sandburg</th>\n",
       "      <th>Temperature_ElMonte</th>\n",
       "      <th>Inversion_base_height</th>\n",
       "      <th>Pressure_gradient</th>\n",
       "      <th>Inversion_temperature</th>\n",
       "      <th>Visibility</th>\n",
       "    </tr>\n",
       "  </thead>\n",
       "  <tbody>\n",
       "    <tr>\n",
       "      <th>0</th>\n",
       "      <td>1</td>\n",
       "      <td>5</td>\n",
       "      <td>1</td>\n",
       "      <td>5.34</td>\n",
       "      <td>5760</td>\n",
       "      <td>3</td>\n",
       "      <td>51</td>\n",
       "      <td>54</td>\n",
       "      <td>45.32</td>\n",
       "      <td>1450</td>\n",
       "      <td>25</td>\n",
       "      <td>57.02</td>\n",
       "      <td>60</td>\n",
       "    </tr>\n",
       "    <tr>\n",
       "      <th>1</th>\n",
       "      <td>1</td>\n",
       "      <td>6</td>\n",
       "      <td>2</td>\n",
       "      <td>5.77</td>\n",
       "      <td>5720</td>\n",
       "      <td>4</td>\n",
       "      <td>69</td>\n",
       "      <td>35</td>\n",
       "      <td>49.64</td>\n",
       "      <td>1568</td>\n",
       "      <td>15</td>\n",
       "      <td>53.78</td>\n",
       "      <td>60</td>\n",
       "    </tr>\n",
       "    <tr>\n",
       "      <th>2</th>\n",
       "      <td>1</td>\n",
       "      <td>7</td>\n",
       "      <td>3</td>\n",
       "      <td>3.69</td>\n",
       "      <td>5790</td>\n",
       "      <td>6</td>\n",
       "      <td>19</td>\n",
       "      <td>45</td>\n",
       "      <td>46.40</td>\n",
       "      <td>2631</td>\n",
       "      <td>-33</td>\n",
       "      <td>54.14</td>\n",
       "      <td>100</td>\n",
       "    </tr>\n",
       "    <tr>\n",
       "      <th>3</th>\n",
       "      <td>1</td>\n",
       "      <td>8</td>\n",
       "      <td>4</td>\n",
       "      <td>3.89</td>\n",
       "      <td>5790</td>\n",
       "      <td>3</td>\n",
       "      <td>25</td>\n",
       "      <td>55</td>\n",
       "      <td>52.70</td>\n",
       "      <td>554</td>\n",
       "      <td>-28</td>\n",
       "      <td>64.76</td>\n",
       "      <td>250</td>\n",
       "    </tr>\n",
       "    <tr>\n",
       "      <th>4</th>\n",
       "      <td>1</td>\n",
       "      <td>9</td>\n",
       "      <td>5</td>\n",
       "      <td>5.76</td>\n",
       "      <td>5700</td>\n",
       "      <td>3</td>\n",
       "      <td>73</td>\n",
       "      <td>41</td>\n",
       "      <td>48.02</td>\n",
       "      <td>2083</td>\n",
       "      <td>23</td>\n",
       "      <td>52.52</td>\n",
       "      <td>120</td>\n",
       "    </tr>\n",
       "    <tr>\n",
       "      <th>...</th>\n",
       "      <td>...</td>\n",
       "      <td>...</td>\n",
       "      <td>...</td>\n",
       "      <td>...</td>\n",
       "      <td>...</td>\n",
       "      <td>...</td>\n",
       "      <td>...</td>\n",
       "      <td>...</td>\n",
       "      <td>...</td>\n",
       "      <td>...</td>\n",
       "      <td>...</td>\n",
       "      <td>...</td>\n",
       "      <td>...</td>\n",
       "    </tr>\n",
       "    <tr>\n",
       "      <th>198</th>\n",
       "      <td>12</td>\n",
       "      <td>23</td>\n",
       "      <td>4</td>\n",
       "      <td>3.21</td>\n",
       "      <td>5680</td>\n",
       "      <td>4</td>\n",
       "      <td>57</td>\n",
       "      <td>47</td>\n",
       "      <td>45.32</td>\n",
       "      <td>508</td>\n",
       "      <td>-10</td>\n",
       "      <td>58.64</td>\n",
       "      <td>100</td>\n",
       "    </tr>\n",
       "    <tr>\n",
       "      <th>199</th>\n",
       "      <td>12</td>\n",
       "      <td>27</td>\n",
       "      <td>1</td>\n",
       "      <td>1.74</td>\n",
       "      <td>5730</td>\n",
       "      <td>3</td>\n",
       "      <td>53</td>\n",
       "      <td>51</td>\n",
       "      <td>49.28</td>\n",
       "      <td>111</td>\n",
       "      <td>-14</td>\n",
       "      <td>72.50</td>\n",
       "      <td>200</td>\n",
       "    </tr>\n",
       "    <tr>\n",
       "      <th>200</th>\n",
       "      <td>12</td>\n",
       "      <td>28</td>\n",
       "      <td>2</td>\n",
       "      <td>2.69</td>\n",
       "      <td>5690</td>\n",
       "      <td>3</td>\n",
       "      <td>23</td>\n",
       "      <td>51</td>\n",
       "      <td>49.28</td>\n",
       "      <td>5000</td>\n",
       "      <td>-36</td>\n",
       "      <td>51.26</td>\n",
       "      <td>70</td>\n",
       "    </tr>\n",
       "    <tr>\n",
       "      <th>201</th>\n",
       "      <td>12</td>\n",
       "      <td>29</td>\n",
       "      <td>3</td>\n",
       "      <td>5.05</td>\n",
       "      <td>5650</td>\n",
       "      <td>3</td>\n",
       "      <td>61</td>\n",
       "      <td>50</td>\n",
       "      <td>46.58</td>\n",
       "      <td>3704</td>\n",
       "      <td>18</td>\n",
       "      <td>46.94</td>\n",
       "      <td>40</td>\n",
       "    </tr>\n",
       "    <tr>\n",
       "      <th>202</th>\n",
       "      <td>12</td>\n",
       "      <td>30</td>\n",
       "      <td>4</td>\n",
       "      <td>0.72</td>\n",
       "      <td>5550</td>\n",
       "      <td>4</td>\n",
       "      <td>85</td>\n",
       "      <td>39</td>\n",
       "      <td>41.00</td>\n",
       "      <td>5000</td>\n",
       "      <td>8</td>\n",
       "      <td>39.92</td>\n",
       "      <td>100</td>\n",
       "    </tr>\n",
       "  </tbody>\n",
       "</table>\n",
       "<p>203 rows × 13 columns</p>\n",
       "</div>"
      ],
      "text/plain": [
       "     Month  Day_of_month  Day_of_week  ozone_reading  pressure_height  \\\n",
       "0        1             5            1           5.34             5760   \n",
       "1        1             6            2           5.77             5720   \n",
       "2        1             7            3           3.69             5790   \n",
       "3        1             8            4           3.89             5790   \n",
       "4        1             9            5           5.76             5700   \n",
       "..     ...           ...          ...            ...              ...   \n",
       "198     12            23            4           3.21             5680   \n",
       "199     12            27            1           1.74             5730   \n",
       "200     12            28            2           2.69             5690   \n",
       "201     12            29            3           5.05             5650   \n",
       "202     12            30            4           0.72             5550   \n",
       "\n",
       "     Wind_speed  Humidity  Temperature_Sandburg  Temperature_ElMonte  \\\n",
       "0             3        51                    54                45.32   \n",
       "1             4        69                    35                49.64   \n",
       "2             6        19                    45                46.40   \n",
       "3             3        25                    55                52.70   \n",
       "4             3        73                    41                48.02   \n",
       "..          ...       ...                   ...                  ...   \n",
       "198           4        57                    47                45.32   \n",
       "199           3        53                    51                49.28   \n",
       "200           3        23                    51                49.28   \n",
       "201           3        61                    50                46.58   \n",
       "202           4        85                    39                41.00   \n",
       "\n",
       "     Inversion_base_height  Pressure_gradient  Inversion_temperature  \\\n",
       "0                     1450                 25                  57.02   \n",
       "1                     1568                 15                  53.78   \n",
       "2                     2631                -33                  54.14   \n",
       "3                      554                -28                  64.76   \n",
       "4                     2083                 23                  52.52   \n",
       "..                     ...                ...                    ...   \n",
       "198                    508                -10                  58.64   \n",
       "199                    111                -14                  72.50   \n",
       "200                   5000                -36                  51.26   \n",
       "201                   3704                 18                  46.94   \n",
       "202                   5000                  8                  39.92   \n",
       "\n",
       "     Visibility  \n",
       "0            60  \n",
       "1            60  \n",
       "2           100  \n",
       "3           250  \n",
       "4           120  \n",
       "..          ...  \n",
       "198         100  \n",
       "199         200  \n",
       "200          70  \n",
       "201          40  \n",
       "202         100  \n",
       "\n",
       "[203 rows x 13 columns]"
      ]
     },
     "execution_count": 2,
     "metadata": {},
     "output_type": "execute_result"
    }
   ],
   "source": [
    "dataorig=pd.read_csv(\"ozone.csv\")#Leemos el fichero csv\n",
    "dataorig"
   ]
  },
  {
   "cell_type": "code",
   "execution_count": 3,
   "metadata": {},
   "outputs": [],
   "source": [
    "data=dataorig[['Wind_speed','ozone_reading','Visibility']]"
   ]
  },
  {
   "cell_type": "markdown",
   "metadata": {},
   "source": [
    "# 1. Llevar a cabo el estudio de los outliers de 3 variables (Wind_speed, Ozone_reading, Visibility) de forma unidimensional. ¿Qué tipo de gráfico es necesario emplear? Interpretar los datos obtenidos en cada caso."
   ]
  },
  {
   "cell_type": "markdown",
   "metadata": {},
   "source": [
    "Para detectar los outliers se utilizara el mismo metodo que utiliza boxplot para representar dicho outliers.\n",
    "Por ello el grafico que se tiene que utilizar es el boxplot."
   ]
  },
  {
   "cell_type": "code",
   "execution_count": 4,
   "metadata": {},
   "outputs": [],
   "source": [
    "#Metemos las variables en un array por comodidad.\n",
    "variables=['Wind_speed','ozone_reading','Visibility']"
   ]
  },
  {
   "cell_type": "code",
   "execution_count": 5,
   "metadata": {},
   "outputs": [
    {
     "data": {
      "image/png": "[encoded data removed]",
      "text/plain": [
       "<Figure size 432x288 with 1 Axes>"
      ]
     },
     "metadata": {
      "needs_background": "light"
     },
     "output_type": "display_data"
    }
   ],
   "source": [
    "#Mostramos un boxplot de las 3 variables\n",
    "boxplot = data.boxplot(column=['Wind_speed','ozone_reading','Visibility'])"
   ]
  },
  {
   "cell_type": "markdown",
   "metadata": {},
   "source": [
    "Dado que utilizando este grafico no se pueden ver con claridad los valores de las variables de wind_speed y ozone reading. Se mostrara de manera individual."
   ]
  },
  {
   "cell_type": "code",
   "execution_count": 6,
   "metadata": {},
   "outputs": [
    {
     "name": "stdout",
     "output_type": "stream",
     "text": [
      "Boxplot de la variable:  Wind_speed\n"
     ]
    },
    {
     "data": {
      "image/png": "[encoded data removed]",
      "text/plain": [
       "<Figure size 432x288 with 1 Axes>"
      ]
     },
     "metadata": {
      "needs_background": "light"
     },
     "output_type": "display_data"
    },
    {
     "name": "stdout",
     "output_type": "stream",
     "text": [
      "Boxplot de la variable:  ozone_reading\n"
     ]
    },
    {
     "data": {
      "image/png": "[encoded data removed]",
      "text/plain": [
       "<Figure size 432x288 with 1 Axes>"
      ]
     },
     "metadata": {
      "needs_background": "light"
     },
     "output_type": "display_data"
    },
    {
     "name": "stdout",
     "output_type": "stream",
     "text": [
      "Boxplot de la variable:  Visibility\n"
     ]
    },
    {
     "data": {
      "image/png": "[encoded data removed]",
      "text/plain": [
       "<Figure size 432x288 with 1 Axes>"
      ]
     },
     "metadata": {
      "needs_background": "light"
     },
     "output_type": "display_data"
    }
   ],
   "source": [
    "#Mostramos boxplot de todas las variables.\n",
    "for var in variables:\n",
    "    print('Boxplot de la variable: ',var)\n",
    "    box=data[var]\n",
    "    plt.boxplot(box)\n",
    "    plt.show()"
   ]
  },
  {
   "cell_type": "code",
   "execution_count": 7,
   "metadata": {},
   "outputs": [],
   "source": [
    "#Creamos funcion que imprime el boxplot\n",
    "#Ademas de una breve explicacion con los datos de los cuartiles\n",
    "# y los outliers.\n",
    "def funboxplot(dataframe,variable):\n",
    "    print('BOXPLOT DE LA VARIABLE: ',variable.upper())\n",
    "    #se muestran los cuartiles\n",
    "    descr=dataframe.describe()\n",
    "    print(descr)\n",
    "    #se muestra el boxplot\n",
    "    box=dataframe\n",
    "    plt.boxplot(box)\n",
    "    plt.show()\n",
    "    #Funcion que detecta los outliers\n",
    "    array2=detectaroutliers(dataframe)\n",
    "    #Explicacion\n",
    "    print('Podemos ver que la mayoria de los datos sobre la variable ' + variable + ' se encuentran entre el numero '\n",
    "          + str(descr['25%'])+ ' y el numero '+ str(descr['50%'])+' que corresponden al primer y al segundo cuartil respectivamente,el tercer cuartil corresponde con el numero '+str(descr['75%'])+ ' podemos ver que el valor maximo es '\n",
    "          +str(descr['max'])+' y que el valor minimo es '+str(descr['min'])+' los outliers en este caso son: '+str(array2)+'\\n')"
   ]
  },
  {
   "cell_type": "code",
   "execution_count": 8,
   "metadata": {},
   "outputs": [],
   "source": [
    "#Funcion que indica los valores outliers del dataframe que se le pasa\n",
    "#para ello se realiza de la misma forma que lo reliza el boxplot\n",
    "#,es decir, con el rango intercuartilico.\n",
    "def detectaroutliers(dataframe):\n",
    "    #Creamos el describe para utilizar los datos de los cuartiles\n",
    "    describee=dataframe.describe()\n",
    "    #Primer cuartil\n",
    "    cuartil1 = describee['25%']\n",
    "    #Tercer cuartil\n",
    "    cuartil3 = describee['75%']\n",
    "    #calculamos el rango intercuartilico\n",
    "    iqr = cuartil3 - cuartil1\n",
    "    #Seleccionamos las rows que superen el rango intercuartilico por arriba o por abajo\n",
    "    #Esto devuelve dataframe con el indice de las rows como index y como valores los outliers\n",
    "    dataframeoutliers=dataframe.loc[(dataframe < (cuartil1-1.5*iqr))|(dataframe > (cuartil3+1.5*iqr))]\n",
    "    #Cogemos los valores del dataframe\n",
    "    #nos quedamos con los valores unicos, es decir, que no se repitan valores.\n",
    "    array=np.unique(dataframeoutliers.values)    \n",
    "    return array"
   ]
  },
  {
   "cell_type": "code",
   "execution_count": 9,
   "metadata": {},
   "outputs": [
    {
     "name": "stdout",
     "output_type": "stream",
     "text": [
      "BOXPLOT DE LA VARIABLE:  WIND_SPEED\n",
      "count    203.000000\n",
      "mean       4.866995\n",
      "std        2.105402\n",
      "min        0.000000\n",
      "25%        3.000000\n",
      "50%        5.000000\n",
      "75%        6.000000\n",
      "max       11.000000\n",
      "Name: Wind_speed, dtype: float64\n"
     ]
    },
    {
     "data": {
      "image/png": "[encoded data removed]",
      "text/plain": [
       "<Figure size 432x288 with 1 Axes>"
      ]
     },
     "metadata": {
      "needs_background": "light"
     },
     "output_type": "display_data"
    },
    {
     "name": "stdout",
     "output_type": "stream",
     "text": [
      "Podemos ver que la mayoria de los datos sobre la variable Wind_speed se encuentran entre el numero 3.0 y el numero 5.0 que corresponden al primer y al segundo cuartil respectivamente,el tercer cuartil corresponde con el numero 6.0 podemos ver que el valor maximo es 11.0 y que el valor minimo es 0.0 los outliers en este caso son: [11]\n",
      "\n",
      "BOXPLOT DE LA VARIABLE:  OZONE_READING\n",
      "count    203.000000\n",
      "mean      11.373990\n",
      "std        8.192652\n",
      "min        0.720000\n",
      "25%        4.770000\n",
      "50%        8.900000\n",
      "75%       16.075000\n",
      "max       37.980000\n",
      "Name: ozone_reading, dtype: float64\n"
     ]
    },
    {
     "data": {
      "image/png": "[encoded data removed]",
      "text/plain": [
       "<Figure size 432x288 with 1 Axes>"
      ]
     },
     "metadata": {
      "needs_background": "light"
     },
     "output_type": "display_data"
    },
    {
     "name": "stdout",
     "output_type": "stream",
     "text": [
      "Podemos ver que la mayoria de los datos sobre la variable ozone_reading se encuentran entre el numero 4.77 y el numero 8.9 que corresponden al primer y al segundo cuartil respectivamente,el tercer cuartil corresponde con el numero 16.075 podemos ver que el valor maximo es 37.98 y que el valor minimo es 0.72 los outliers en este caso son: [33.04 34.39 37.98]\n",
      "\n",
      "BOXPLOT DE LA VARIABLE:  VISIBILITY\n",
      "count    203.000000\n",
      "mean     122.197044\n",
      "std       81.171317\n",
      "min        0.000000\n",
      "25%       60.000000\n",
      "50%      100.000000\n",
      "75%      150.000000\n",
      "max      350.000000\n",
      "Name: Visibility, dtype: float64\n"
     ]
    },
    {
     "data": {
      "image/png": "[encoded data removed]",
      "text/plain": [
       "<Figure size 432x288 with 1 Axes>"
      ]
     },
     "metadata": {
      "needs_background": "light"
     },
     "output_type": "display_data"
    },
    {
     "name": "stdout",
     "output_type": "stream",
     "text": [
      "Podemos ver que la mayoria de los datos sobre la variable Visibility se encuentran entre el numero 60.0 y el numero 100.0 que corresponden al primer y al segundo cuartil respectivamente,el tercer cuartil corresponde con el numero 150.0 podemos ver que el valor maximo es 350.0 y que el valor minimo es 0.0 los outliers en este caso son: [300 350]\n",
      "\n"
     ]
    }
   ],
   "source": [
    "for i in range(0,len(variables)):\n",
    "    funboxplot(data[variables[i]],variables[i])\n",
    "    "
   ]
  },
  {
   "cell_type": "markdown",
   "metadata": {},
   "source": [
    "Podemos ver como el valor de los outliers coincide con la representacion en el boxplot."
   ]
  },
  {
   "cell_type": "markdown",
   "metadata": {},
   "source": [
    "# 2.Estudiar la intersección y la unión de outliers entre las variables “Wind_speed” y “Visibility”."
   ]
  },
  {
   "cell_type": "markdown",
   "metadata": {},
   "source": [
    "Entiendo que en este apartado se busca que coincida el valor del outlier de Windspeed con el valor del outlier de Visibility, para ello haremos uso de los conjuntos."
   ]
  },
  {
   "cell_type": "code",
   "execution_count": 10,
   "metadata": {},
   "outputs": [
    {
     "data": {
      "text/plain": [
       "['Wind_speed', 'ozone_reading', 'Visibility']"
      ]
     },
     "execution_count": 10,
     "metadata": {},
     "output_type": "execute_result"
    }
   ],
   "source": [
    "variables#Para recordar en que posicion estan las variables."
   ]
  },
  {
   "cell_type": "code",
   "execution_count": 11,
   "metadata": {},
   "outputs": [],
   "source": [
    "#Selecciono los outliers de cada variable\n",
    "outliers0=detectaroutliers(data[variables[0]])\n",
    "outliers1=detectaroutliers(data[variables[2]])"
   ]
  },
  {
   "cell_type": "markdown",
   "metadata": {},
   "source": [
    "Entiende que en este apartado se pide la probabilidad de la union y la interseccion de sucesos para ello haremos uso de los conjuntos."
   ]
  },
  {
   "cell_type": "code",
   "execution_count": 12,
   "metadata": {},
   "outputs": [],
   "source": [
    "#Creo un conjunto con los valores outliers de cada conjunto\n",
    "variable1=set(outliers0)\n",
    "variable2=set(outliers1)"
   ]
  },
  {
   "cell_type": "code",
   "execution_count": 13,
   "metadata": {},
   "outputs": [
    {
     "data": {
      "text/plain": [
       "{11, 300, 350}"
      ]
     },
     "execution_count": 13,
     "metadata": {},
     "output_type": "execute_result"
    }
   ],
   "source": [
    "#Union de ambos conjuntos\n",
    "unionconjuntos=variable1.union(variable2)\n",
    "unionconjuntos"
   ]
  },
  {
   "cell_type": "code",
   "execution_count": 14,
   "metadata": {},
   "outputs": [
    {
     "data": {
      "text/plain": [
       "set()"
      ]
     },
     "execution_count": 14,
     "metadata": {},
     "output_type": "execute_result"
    }
   ],
   "source": [
    "#Interseccion conjuntos\n",
    "interseccionconjuntos=variable1.intersection(variable2)\n",
    "interseccionconjuntos"
   ]
  },
  {
   "cell_type": "markdown",
   "metadata": {},
   "source": [
    "Como podemos ver la interseccion esta vacia, esto se debe a que no hay valores iguales en ambos conjuntos."
   ]
  },
  {
   "cell_type": "markdown",
   "metadata": {},
   "source": [
    "Busqueda de los datos en el dataframe."
   ]
  },
  {
   "cell_type": "code",
   "execution_count": 15,
   "metadata": {},
   "outputs": [
    {
     "data": {
      "text/plain": [
       "array([11])"
      ]
     },
     "execution_count": 15,
     "metadata": {},
     "output_type": "execute_result"
    }
   ],
   "source": [
    "outliers0#OUTLIERS Wind_speed"
   ]
  },
  {
   "cell_type": "code",
   "execution_count": 16,
   "metadata": {},
   "outputs": [
    {
     "data": {
      "text/plain": [
       "array([300, 350])"
      ]
     },
     "execution_count": 16,
     "metadata": {},
     "output_type": "execute_result"
    }
   ],
   "source": [
    "outliers1#OUTLIERS Visibility"
   ]
  },
  {
   "cell_type": "code",
   "execution_count": 17,
   "metadata": {},
   "outputs": [
    {
     "data": {
      "text/html": [
       "<div>\n",
       "<style scoped>\n",
       "    .dataframe tbody tr th:only-of-type {\n",
       "        vertical-align: middle;\n",
       "    }\n",
       "\n",
       "    .dataframe tbody tr th {\n",
       "        vertical-align: top;\n",
       "    }\n",
       "\n",
       "    .dataframe thead th {\n",
       "        text-align: right;\n",
       "    }\n",
       "</style>\n",
       "<table border=\"1\" class=\"dataframe\">\n",
       "  <thead>\n",
       "    <tr style=\"text-align: right;\">\n",
       "      <th></th>\n",
       "      <th>Wind_speed</th>\n",
       "      <th>ozone_reading</th>\n",
       "      <th>Visibility</th>\n",
       "    </tr>\n",
       "  </thead>\n",
       "  <tbody>\n",
       "    <tr>\n",
       "      <th>22</th>\n",
       "      <td>11</td>\n",
       "      <td>2.92</td>\n",
       "      <td>350</td>\n",
       "    </tr>\n",
       "    <tr>\n",
       "      <th>36</th>\n",
       "      <td>11</td>\n",
       "      <td>2.79</td>\n",
       "      <td>200</td>\n",
       "    </tr>\n",
       "  </tbody>\n",
       "</table>\n",
       "</div>"
      ],
      "text/plain": [
       "    Wind_speed  ozone_reading  Visibility\n",
       "22          11           2.92         350\n",
       "36          11           2.79         200"
      ]
     },
     "execution_count": 17,
     "metadata": {},
     "output_type": "execute_result"
    }
   ],
   "source": [
    "data[(data['Wind_speed']==11)]"
   ]
  },
  {
   "cell_type": "markdown",
   "metadata": {},
   "source": [
    "Podemos ver que el metodo de los conjuntos no es eficiente dado que en este caso el dataframe tiene una columna donde coincide el valor del outlier de Wind_speed con un valor de los outliers de Visibility"
   ]
  },
  {
   "cell_type": "markdown",
   "metadata": {},
   "source": [
    "# 3. Categoriza algunas de las variables y lleva a cabo representaciones que nos permitan relacionar diferentes variables ¿Qué nos dicen los datos?"
   ]
  },
  {
   "cell_type": "code",
   "execution_count": 18,
   "metadata": {},
   "outputs": [
    {
     "data": {
      "image/png": "[encoded data removed]",
      "text/plain": [
       "<Figure size 1440x576 with 1 Axes>"
      ]
     },
     "metadata": {
      "needs_background": "light"
     },
     "output_type": "display_data"
    }
   ],
   "source": [
    "data.plot.hist(stacked=True, figsize=(20,8));"
   ]
  },
  {
   "cell_type": "markdown",
   "metadata": {},
   "source": [
    "Como podemos ver en este histograma los valores de las variables wind_speed y ozone_reading con los datos dados son muy similares, sin embargo, los valores de la variable visibility abarcan un gran rango de valores."
   ]
  },
  {
   "cell_type": "code",
   "execution_count": 19,
   "metadata": {},
   "outputs": [
    {
     "name": "stderr",
     "output_type": "stream",
     "text": [
      "<ipython-input-19-75eab9cde803>:9: SettingWithCopyWarning: \n",
      "A value is trying to be set on a copy of a slice from a DataFrame.\n",
      "Try using .loc[row_indexer,col_indexer] = value instead\n",
      "\n",
      "See the caveats in the documentation: https://pandas.pydata.org/pandas-docs/stable/user_guide/indexing.html#returning-a-view-versus-a-copy\n",
      "  data['Visibility'] = np.select(conditionlist, choicelist, default='Not Specified')\n"
     ]
    },
    {
     "data": {
      "text/html": [
       "<div>\n",
       "<style scoped>\n",
       "    .dataframe tbody tr th:only-of-type {\n",
       "        vertical-align: middle;\n",
       "    }\n",
       "\n",
       "    .dataframe tbody tr th {\n",
       "        vertical-align: top;\n",
       "    }\n",
       "\n",
       "    .dataframe thead th {\n",
       "        text-align: right;\n",
       "    }\n",
       "</style>\n",
       "<table border=\"1\" class=\"dataframe\">\n",
       "  <thead>\n",
       "    <tr style=\"text-align: right;\">\n",
       "      <th></th>\n",
       "      <th>Wind_speed</th>\n",
       "      <th>ozone_reading</th>\n",
       "      <th>Visibility</th>\n",
       "    </tr>\n",
       "  </thead>\n",
       "  <tbody>\n",
       "    <tr>\n",
       "      <th>0</th>\n",
       "      <td>3</td>\n",
       "      <td>5.34</td>\n",
       "      <td>muypoca_visibilidad</td>\n",
       "    </tr>\n",
       "    <tr>\n",
       "      <th>1</th>\n",
       "      <td>4</td>\n",
       "      <td>5.77</td>\n",
       "      <td>muypoca_visibilidad</td>\n",
       "    </tr>\n",
       "    <tr>\n",
       "      <th>2</th>\n",
       "      <td>6</td>\n",
       "      <td>3.69</td>\n",
       "      <td>poca_visibilidad</td>\n",
       "    </tr>\n",
       "    <tr>\n",
       "      <th>3</th>\n",
       "      <td>3</td>\n",
       "      <td>3.89</td>\n",
       "      <td>muybuena_visibilidad</td>\n",
       "    </tr>\n",
       "    <tr>\n",
       "      <th>4</th>\n",
       "      <td>3</td>\n",
       "      <td>5.76</td>\n",
       "      <td>buena_visibilidad</td>\n",
       "    </tr>\n",
       "    <tr>\n",
       "      <th>...</th>\n",
       "      <td>...</td>\n",
       "      <td>...</td>\n",
       "      <td>...</td>\n",
       "    </tr>\n",
       "    <tr>\n",
       "      <th>198</th>\n",
       "      <td>4</td>\n",
       "      <td>3.21</td>\n",
       "      <td>poca_visibilidad</td>\n",
       "    </tr>\n",
       "    <tr>\n",
       "      <th>199</th>\n",
       "      <td>3</td>\n",
       "      <td>1.74</td>\n",
       "      <td>muybuena_visibilidad</td>\n",
       "    </tr>\n",
       "    <tr>\n",
       "      <th>200</th>\n",
       "      <td>3</td>\n",
       "      <td>2.69</td>\n",
       "      <td>poca_visibilidad</td>\n",
       "    </tr>\n",
       "    <tr>\n",
       "      <th>201</th>\n",
       "      <td>3</td>\n",
       "      <td>5.05</td>\n",
       "      <td>muypoca_visibilidad</td>\n",
       "    </tr>\n",
       "    <tr>\n",
       "      <th>202</th>\n",
       "      <td>4</td>\n",
       "      <td>0.72</td>\n",
       "      <td>poca_visibilidad</td>\n",
       "    </tr>\n",
       "  </tbody>\n",
       "</table>\n",
       "<p>203 rows × 3 columns</p>\n",
       "</div>"
      ],
      "text/plain": [
       "     Wind_speed  ozone_reading            Visibility\n",
       "0             3           5.34   muypoca_visibilidad\n",
       "1             4           5.77   muypoca_visibilidad\n",
       "2             6           3.69      poca_visibilidad\n",
       "3             3           3.89  muybuena_visibilidad\n",
       "4             3           5.76     buena_visibilidad\n",
       "..          ...            ...                   ...\n",
       "198           4           3.21      poca_visibilidad\n",
       "199           3           1.74  muybuena_visibilidad\n",
       "200           3           2.69      poca_visibilidad\n",
       "201           3           5.05   muypoca_visibilidad\n",
       "202           4           0.72      poca_visibilidad\n",
       "\n",
       "[203 rows x 3 columns]"
      ]
     },
     "execution_count": 19,
     "metadata": {},
     "output_type": "execute_result"
    }
   ],
   "source": [
    "#Categorizamos la variable visbility segun los cuartiles.\n",
    "descr=data['Visibility'].describe()\n",
    "conditionlist = [\n",
    "    (data['Visibility'] >= descr['min']) & (data['Visibility'] <=descr['25%']),\n",
    "    (data['Visibility'] > descr['25%']) & (data['Visibility'] <=descr['50%']),\n",
    "    (data['Visibility'] > descr['50%']) & (data['Visibility'] <=descr['75%']),\n",
    "    (data['Visibility'] > descr['75%'])]\n",
    "choicelist = ['muypoca_visibilidad','poca_visibilidad','buena_visibilidad','muybuena_visibilidad']\n",
    "data['Visibility'] = np.select(conditionlist, choicelist, default='Not Specified')\n",
    "data"
   ]
  },
  {
   "cell_type": "code",
   "execution_count": 20,
   "metadata": {},
   "outputs": [
    {
     "data": {
      "text/plain": [
       "<AxesSubplot:xlabel='Visibility'>"
      ]
     },
     "execution_count": 20,
     "metadata": {},
     "output_type": "execute_result"
    },
    {
     "data": {
      "image/png": "[encoded data removed]",
      "text/plain": [
       "<Figure size 432x288 with 1 Axes>"
      ]
     },
     "metadata": {
      "needs_background": "light"
     },
     "output_type": "display_data"
    }
   ],
   "source": [
    "#Podemos ver que los datos estan balanceados.\n",
    "data[['Visibility']].value_counts().plot(kind='bar')"
   ]
  },
  {
   "cell_type": "code",
   "execution_count": 21,
   "metadata": {},
   "outputs": [
    {
     "data": {
      "text/plain": [
       "<AxesSubplot:xlabel='Visibility'>"
      ]
     },
     "execution_count": 21,
     "metadata": {},
     "output_type": "execute_result"
    },
    {
     "data": {
      "image/png": "[encoded data removed]",
      "text/plain": [
       "<Figure size 1440x576 with 1 Axes>"
      ]
     },
     "metadata": {
      "needs_background": "light"
     },
     "output_type": "display_data"
    }
   ],
   "source": [
    "#Agrupamos las otras dos variables segun la visibilidad\n",
    "data.groupby(by=[\"Visibility\"]).mean().plot(kind='bar',figsize=(20,8))"
   ]
  },
  {
   "cell_type": "markdown",
   "metadata": {},
   "source": [
    "* Con este grafico podemos  inferir que los dias que hay poca o muy poca visibilidad son aquellos dias que las lecturas de ozono son mas altas. De la misma forma los dias que hay buena o muy buena visibilidad seran aquellos dias que las lecturas de ozono seran mas bajas.\n",
    "* La variable windspeed parece estable, es decir, es independiente de la visibilidad."
   ]
  },
  {
   "cell_type": "code",
   "execution_count": 22,
   "metadata": {},
   "outputs": [
    {
     "data": {
      "image/png": "[encoded data removed]",
      "text/plain": [
       "<Figure size 1440x576 with 1 Axes>"
      ]
     },
     "metadata": {
      "needs_background": "light"
     },
     "output_type": "display_data"
    }
   ],
   "source": [
    "#Histograma tras categorizar datos.\n",
    "data.plot.hist(stacked=True, figsize=(20,8));"
   ]
  },
  {
   "cell_type": "markdown",
   "metadata": {},
   "source": [
    "En este histograma podemos ver que los valores de wind_speed ocupan muy rango muy pequeño de valores en comparacion con los valores de la variable ozone_reading, dado que la frecuencia con la que la variable wind tiene un valor pequeño es muy superior que la frecuencia que la variable ozone reading tiene un valor pequeño."
   ]
  },
  {
   "cell_type": "markdown",
   "metadata": {},
   "source": [
    "# 4.  Se desea saber cómo se distribuyen y cuáles son las frecuencias de las principales variables respecto a los días de medición. Lleva a cabo la representación más útil (sólo una). Justificar la respuesta."
   ]
  },
  {
   "cell_type": "markdown",
   "metadata": {},
   "source": [
    "Entiendo por principales variables las que se usan en los apartados anteriores, es decir, 'Wind_speed', 'ozone_reading', 'Visibility'.\n",
    "Entiendo los dias de medicion los dias de la semana."
   ]
  },
  {
   "cell_type": "code",
   "execution_count": 23,
   "metadata": {},
   "outputs": [
    {
     "data": {
      "text/html": [
       "<div>\n",
       "<style scoped>\n",
       "    .dataframe tbody tr th:only-of-type {\n",
       "        vertical-align: middle;\n",
       "    }\n",
       "\n",
       "    .dataframe tbody tr th {\n",
       "        vertical-align: top;\n",
       "    }\n",
       "\n",
       "    .dataframe thead th {\n",
       "        text-align: right;\n",
       "    }\n",
       "</style>\n",
       "<table border=\"1\" class=\"dataframe\">\n",
       "  <thead>\n",
       "    <tr style=\"text-align: right;\">\n",
       "      <th></th>\n",
       "      <th>Month</th>\n",
       "      <th>Day_of_month</th>\n",
       "      <th>Day_of_week</th>\n",
       "      <th>ozone_reading</th>\n",
       "      <th>pressure_height</th>\n",
       "      <th>Wind_speed</th>\n",
       "      <th>Humidity</th>\n",
       "      <th>Temperature_Sandburg</th>\n",
       "      <th>Temperature_ElMonte</th>\n",
       "      <th>Inversion_base_height</th>\n",
       "      <th>Pressure_gradient</th>\n",
       "      <th>Inversion_temperature</th>\n",
       "      <th>Visibility</th>\n",
       "    </tr>\n",
       "  </thead>\n",
       "  <tbody>\n",
       "    <tr>\n",
       "      <th>0</th>\n",
       "      <td>1</td>\n",
       "      <td>5</td>\n",
       "      <td>1</td>\n",
       "      <td>5.34</td>\n",
       "      <td>5760</td>\n",
       "      <td>3</td>\n",
       "      <td>51</td>\n",
       "      <td>54</td>\n",
       "      <td>45.32</td>\n",
       "      <td>1450</td>\n",
       "      <td>25</td>\n",
       "      <td>57.02</td>\n",
       "      <td>60</td>\n",
       "    </tr>\n",
       "    <tr>\n",
       "      <th>1</th>\n",
       "      <td>1</td>\n",
       "      <td>6</td>\n",
       "      <td>2</td>\n",
       "      <td>5.77</td>\n",
       "      <td>5720</td>\n",
       "      <td>4</td>\n",
       "      <td>69</td>\n",
       "      <td>35</td>\n",
       "      <td>49.64</td>\n",
       "      <td>1568</td>\n",
       "      <td>15</td>\n",
       "      <td>53.78</td>\n",
       "      <td>60</td>\n",
       "    </tr>\n",
       "    <tr>\n",
       "      <th>2</th>\n",
       "      <td>1</td>\n",
       "      <td>7</td>\n",
       "      <td>3</td>\n",
       "      <td>3.69</td>\n",
       "      <td>5790</td>\n",
       "      <td>6</td>\n",
       "      <td>19</td>\n",
       "      <td>45</td>\n",
       "      <td>46.40</td>\n",
       "      <td>2631</td>\n",
       "      <td>-33</td>\n",
       "      <td>54.14</td>\n",
       "      <td>100</td>\n",
       "    </tr>\n",
       "    <tr>\n",
       "      <th>3</th>\n",
       "      <td>1</td>\n",
       "      <td>8</td>\n",
       "      <td>4</td>\n",
       "      <td>3.89</td>\n",
       "      <td>5790</td>\n",
       "      <td>3</td>\n",
       "      <td>25</td>\n",
       "      <td>55</td>\n",
       "      <td>52.70</td>\n",
       "      <td>554</td>\n",
       "      <td>-28</td>\n",
       "      <td>64.76</td>\n",
       "      <td>250</td>\n",
       "    </tr>\n",
       "    <tr>\n",
       "      <th>4</th>\n",
       "      <td>1</td>\n",
       "      <td>9</td>\n",
       "      <td>5</td>\n",
       "      <td>5.76</td>\n",
       "      <td>5700</td>\n",
       "      <td>3</td>\n",
       "      <td>73</td>\n",
       "      <td>41</td>\n",
       "      <td>48.02</td>\n",
       "      <td>2083</td>\n",
       "      <td>23</td>\n",
       "      <td>52.52</td>\n",
       "      <td>120</td>\n",
       "    </tr>\n",
       "    <tr>\n",
       "      <th>...</th>\n",
       "      <td>...</td>\n",
       "      <td>...</td>\n",
       "      <td>...</td>\n",
       "      <td>...</td>\n",
       "      <td>...</td>\n",
       "      <td>...</td>\n",
       "      <td>...</td>\n",
       "      <td>...</td>\n",
       "      <td>...</td>\n",
       "      <td>...</td>\n",
       "      <td>...</td>\n",
       "      <td>...</td>\n",
       "      <td>...</td>\n",
       "    </tr>\n",
       "    <tr>\n",
       "      <th>198</th>\n",
       "      <td>12</td>\n",
       "      <td>23</td>\n",
       "      <td>4</td>\n",
       "      <td>3.21</td>\n",
       "      <td>5680</td>\n",
       "      <td>4</td>\n",
       "      <td>57</td>\n",
       "      <td>47</td>\n",
       "      <td>45.32</td>\n",
       "      <td>508</td>\n",
       "      <td>-10</td>\n",
       "      <td>58.64</td>\n",
       "      <td>100</td>\n",
       "    </tr>\n",
       "    <tr>\n",
       "      <th>199</th>\n",
       "      <td>12</td>\n",
       "      <td>27</td>\n",
       "      <td>1</td>\n",
       "      <td>1.74</td>\n",
       "      <td>5730</td>\n",
       "      <td>3</td>\n",
       "      <td>53</td>\n",
       "      <td>51</td>\n",
       "      <td>49.28</td>\n",
       "      <td>111</td>\n",
       "      <td>-14</td>\n",
       "      <td>72.50</td>\n",
       "      <td>200</td>\n",
       "    </tr>\n",
       "    <tr>\n",
       "      <th>200</th>\n",
       "      <td>12</td>\n",
       "      <td>28</td>\n",
       "      <td>2</td>\n",
       "      <td>2.69</td>\n",
       "      <td>5690</td>\n",
       "      <td>3</td>\n",
       "      <td>23</td>\n",
       "      <td>51</td>\n",
       "      <td>49.28</td>\n",
       "      <td>5000</td>\n",
       "      <td>-36</td>\n",
       "      <td>51.26</td>\n",
       "      <td>70</td>\n",
       "    </tr>\n",
       "    <tr>\n",
       "      <th>201</th>\n",
       "      <td>12</td>\n",
       "      <td>29</td>\n",
       "      <td>3</td>\n",
       "      <td>5.05</td>\n",
       "      <td>5650</td>\n",
       "      <td>3</td>\n",
       "      <td>61</td>\n",
       "      <td>50</td>\n",
       "      <td>46.58</td>\n",
       "      <td>3704</td>\n",
       "      <td>18</td>\n",
       "      <td>46.94</td>\n",
       "      <td>40</td>\n",
       "    </tr>\n",
       "    <tr>\n",
       "      <th>202</th>\n",
       "      <td>12</td>\n",
       "      <td>30</td>\n",
       "      <td>4</td>\n",
       "      <td>0.72</td>\n",
       "      <td>5550</td>\n",
       "      <td>4</td>\n",
       "      <td>85</td>\n",
       "      <td>39</td>\n",
       "      <td>41.00</td>\n",
       "      <td>5000</td>\n",
       "      <td>8</td>\n",
       "      <td>39.92</td>\n",
       "      <td>100</td>\n",
       "    </tr>\n",
       "  </tbody>\n",
       "</table>\n",
       "<p>203 rows × 13 columns</p>\n",
       "</div>"
      ],
      "text/plain": [
       "     Month  Day_of_month  Day_of_week  ozone_reading  pressure_height  \\\n",
       "0        1             5            1           5.34             5760   \n",
       "1        1             6            2           5.77             5720   \n",
       "2        1             7            3           3.69             5790   \n",
       "3        1             8            4           3.89             5790   \n",
       "4        1             9            5           5.76             5700   \n",
       "..     ...           ...          ...            ...              ...   \n",
       "198     12            23            4           3.21             5680   \n",
       "199     12            27            1           1.74             5730   \n",
       "200     12            28            2           2.69             5690   \n",
       "201     12            29            3           5.05             5650   \n",
       "202     12            30            4           0.72             5550   \n",
       "\n",
       "     Wind_speed  Humidity  Temperature_Sandburg  Temperature_ElMonte  \\\n",
       "0             3        51                    54                45.32   \n",
       "1             4        69                    35                49.64   \n",
       "2             6        19                    45                46.40   \n",
       "3             3        25                    55                52.70   \n",
       "4             3        73                    41                48.02   \n",
       "..          ...       ...                   ...                  ...   \n",
       "198           4        57                    47                45.32   \n",
       "199           3        53                    51                49.28   \n",
       "200           3        23                    51                49.28   \n",
       "201           3        61                    50                46.58   \n",
       "202           4        85                    39                41.00   \n",
       "\n",
       "     Inversion_base_height  Pressure_gradient  Inversion_temperature  \\\n",
       "0                     1450                 25                  57.02   \n",
       "1                     1568                 15                  53.78   \n",
       "2                     2631                -33                  54.14   \n",
       "3                      554                -28                  64.76   \n",
       "4                     2083                 23                  52.52   \n",
       "..                     ...                ...                    ...   \n",
       "198                    508                -10                  58.64   \n",
       "199                    111                -14                  72.50   \n",
       "200                   5000                -36                  51.26   \n",
       "201                   3704                 18                  46.94   \n",
       "202                   5000                  8                  39.92   \n",
       "\n",
       "     Visibility  \n",
       "0            60  \n",
       "1            60  \n",
       "2           100  \n",
       "3           250  \n",
       "4           120  \n",
       "..          ...  \n",
       "198         100  \n",
       "199         200  \n",
       "200          70  \n",
       "201          40  \n",
       "202         100  \n",
       "\n",
       "[203 rows x 13 columns]"
      ]
     },
     "execution_count": 23,
     "metadata": {},
     "output_type": "execute_result"
    }
   ],
   "source": [
    "dataorig#dataset original"
   ]
  },
  {
   "cell_type": "code",
   "execution_count": 24,
   "metadata": {},
   "outputs": [],
   "source": [
    "#Seleccionamos las variables que vamos a utilizar\n",
    "data=dataorig[['Wind_speed', 'ozone_reading', 'Visibility','Day_of_week']]"
   ]
  },
  {
   "cell_type": "code",
   "execution_count": 25,
   "metadata": {},
   "outputs": [
    {
     "data": {
      "text/plain": [
       "<AxesSubplot:ylabel='Frequency'>"
      ]
     },
     "execution_count": 25,
     "metadata": {},
     "output_type": "execute_result"
    },
    {
     "data": {
      "image/png": "[encoded data removed]",
      "text/plain": [
       "<Figure size 432x288 with 1 Axes>"
      ]
     },
     "metadata": {
      "needs_background": "light"
     },
     "output_type": "display_data"
    }
   ],
   "source": [
    "#Agrupamos las otras dos variables segun el dia de la semana\n",
    "data.groupby(by=[\"Day_of_week\"]).mean().plot.hist()"
   ]
  },
  {
   "cell_type": "markdown",
   "metadata": {},
   "source": [
    "Utilizamos un histograma dado que mediante este podemos ver la distribucion y la frecuencia de los valores de las distintas variables.\n",
    "Si ademas agrupamos los valores segun los dias de medicion y representamos la media de estos dias resolvemos el ejercicio.\n",
    "Los valores de las variables Windspeed y ozone reading son los mismos por eso no quedan representados porque un color esta encima del otro."
   ]
  },
  {
   "cell_type": "code",
   "execution_count": 26,
   "metadata": {},
   "outputs": [
    {
     "data": {
      "text/plain": [
       "<AxesSubplot:ylabel='Frequency'>"
      ]
     },
     "execution_count": 26,
     "metadata": {},
     "output_type": "execute_result"
    },
    {
     "data": {
      "image/png": "[encoded data removed]",
      "text/plain": [
       "<Figure size 432x288 with 1 Axes>"
      ]
     },
     "metadata": {
      "needs_background": "light"
     },
     "output_type": "display_data"
    }
   ],
   "source": [
    "#Agrupamos las otras dos variables segun el dia de la semana\n",
    "data.groupby(by=[\"Day_of_week\"]).mean().plot.hist(stacked=True)"
   ]
  },
  {
   "cell_type": "markdown",
   "metadata": {},
   "source": [
    "Esta ultima representacion sirve para clarificar que los valores de la variables wind_speed y ozone_reading son los mismos por eso no se pueden ver en la grafica anterior."
   ]
  },
  {
   "cell_type": "markdown",
   "metadata": {},
   "source": [
    "# Referencias\n",
    "https://pandas.pydata.org/pandas-docs/stable/reference/api/pandas.DataFrame.boxplot.html\n",
    "https://www.statisticshowto.com/probability-and-statistics/descriptive-statistics/box-plot/#:~:text=Back%20to%20Top-,How%20to%20Read%20a%20Box%20Plot,(the%2075%25%20mark).\n",
    "https://pandas.pydata.org/pandas-docs/stable/user_guide/visualization.html\n",
    "https://pandas.pydata.org/pandas-docs/stable/reference/api/pandas.Index.union.html\n",
    "https://pandas.pydata.org/pandas-docs/stable/reference/api/pandas.Index.intersection.html"
   ]
  }
 ],
 "metadata": {
  "kernelspec": {
   "display_name": "Python 3",
   "language": "python",
   "name": "python3"
  },
  "language_info": {
   "codemirror_mode": {
    "name": "ipython",
    "version": 3
   },
   "file_extension": ".py",
   "mimetype": "text/x-python",
   "name": "python",
   "nbconvert_exporter": "python",
   "pygments_lexer": "ipython3",
   "version": "3.8.5"
  }
 },
 "nbformat": 4,
 "nbformat_minor": 4
}
