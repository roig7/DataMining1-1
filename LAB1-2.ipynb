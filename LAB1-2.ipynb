{
 "cells": [
  {
   "cell_type": "code",
   "execution_count": 1,
   "metadata": {},
   "outputs": [],
   "source": [
    "import pandas as pd\n",
    "import numpy as np\n",
    "import sklearn as sk\n",
    "import matplotlib.pyplot as plt\n",
    "from sklearn.decomposition import PCA as sklearnPCA"
   ]
  },
  {
   "cell_type": "code",
   "execution_count": 2,
   "metadata": {
    "scrolled": true
   },
   "outputs": [
    {
     "data": {
      "text/html": [
       "<div>\n",
       "<style scoped>\n",
       "    .dataframe tbody tr th:only-of-type {\n",
       "        vertical-align: middle;\n",
       "    }\n",
       "\n",
       "    .dataframe tbody tr th {\n",
       "        vertical-align: top;\n",
       "    }\n",
       "\n",
       "    .dataframe thead th {\n",
       "        text-align: right;\n",
       "    }\n",
       "</style>\n",
       "<table border=\"1\" class=\"dataframe\">\n",
       "  <thead>\n",
       "    <tr style=\"text-align: right;\">\n",
       "      <th></th>\n",
       "      <th>brand</th>\n",
       "      <th>id</th>\n",
       "      <th>mois</th>\n",
       "      <th>prot</th>\n",
       "      <th>fat</th>\n",
       "      <th>ash</th>\n",
       "      <th>sodium</th>\n",
       "      <th>carb</th>\n",
       "      <th>cal</th>\n",
       "    </tr>\n",
       "  </thead>\n",
       "  <tbody>\n",
       "    <tr>\n",
       "      <th>0</th>\n",
       "      <td>A</td>\n",
       "      <td>14069</td>\n",
       "      <td>27.82</td>\n",
       "      <td>21.43</td>\n",
       "      <td>44.87</td>\n",
       "      <td>5.11</td>\n",
       "      <td>1.77</td>\n",
       "      <td>0.77</td>\n",
       "      <td>4.93</td>\n",
       "    </tr>\n",
       "    <tr>\n",
       "      <th>1</th>\n",
       "      <td>A</td>\n",
       "      <td>14053</td>\n",
       "      <td>28.49</td>\n",
       "      <td>21.26</td>\n",
       "      <td>43.89</td>\n",
       "      <td>5.34</td>\n",
       "      <td>1.79</td>\n",
       "      <td>1.02</td>\n",
       "      <td>4.84</td>\n",
       "    </tr>\n",
       "    <tr>\n",
       "      <th>2</th>\n",
       "      <td>A</td>\n",
       "      <td>14025</td>\n",
       "      <td>28.35</td>\n",
       "      <td>19.99</td>\n",
       "      <td>45.78</td>\n",
       "      <td>5.08</td>\n",
       "      <td>1.63</td>\n",
       "      <td>0.80</td>\n",
       "      <td>4.95</td>\n",
       "    </tr>\n",
       "    <tr>\n",
       "      <th>3</th>\n",
       "      <td>A</td>\n",
       "      <td>14016</td>\n",
       "      <td>30.55</td>\n",
       "      <td>20.15</td>\n",
       "      <td>43.13</td>\n",
       "      <td>4.79</td>\n",
       "      <td>1.61</td>\n",
       "      <td>1.38</td>\n",
       "      <td>4.74</td>\n",
       "    </tr>\n",
       "    <tr>\n",
       "      <th>4</th>\n",
       "      <td>A</td>\n",
       "      <td>14005</td>\n",
       "      <td>30.49</td>\n",
       "      <td>21.28</td>\n",
       "      <td>41.65</td>\n",
       "      <td>4.82</td>\n",
       "      <td>1.64</td>\n",
       "      <td>1.76</td>\n",
       "      <td>4.67</td>\n",
       "    </tr>\n",
       "    <tr>\n",
       "      <th>...</th>\n",
       "      <td>...</td>\n",
       "      <td>...</td>\n",
       "      <td>...</td>\n",
       "      <td>...</td>\n",
       "      <td>...</td>\n",
       "      <td>...</td>\n",
       "      <td>...</td>\n",
       "      <td>...</td>\n",
       "      <td>...</td>\n",
       "    </tr>\n",
       "    <tr>\n",
       "      <th>295</th>\n",
       "      <td>J</td>\n",
       "      <td>34044</td>\n",
       "      <td>44.91</td>\n",
       "      <td>11.07</td>\n",
       "      <td>17.00</td>\n",
       "      <td>2.49</td>\n",
       "      <td>0.66</td>\n",
       "      <td>25.36</td>\n",
       "      <td>2.91</td>\n",
       "    </tr>\n",
       "    <tr>\n",
       "      <th>296</th>\n",
       "      <td>J</td>\n",
       "      <td>24069</td>\n",
       "      <td>43.15</td>\n",
       "      <td>11.79</td>\n",
       "      <td>18.46</td>\n",
       "      <td>2.43</td>\n",
       "      <td>0.67</td>\n",
       "      <td>24.17</td>\n",
       "      <td>3.10</td>\n",
       "    </tr>\n",
       "    <tr>\n",
       "      <th>297</th>\n",
       "      <td>J</td>\n",
       "      <td>34039</td>\n",
       "      <td>44.55</td>\n",
       "      <td>11.01</td>\n",
       "      <td>16.03</td>\n",
       "      <td>2.43</td>\n",
       "      <td>0.64</td>\n",
       "      <td>25.98</td>\n",
       "      <td>2.92</td>\n",
       "    </tr>\n",
       "    <tr>\n",
       "      <th>298</th>\n",
       "      <td>J</td>\n",
       "      <td>14044</td>\n",
       "      <td>47.60</td>\n",
       "      <td>10.43</td>\n",
       "      <td>15.18</td>\n",
       "      <td>2.32</td>\n",
       "      <td>0.56</td>\n",
       "      <td>24.47</td>\n",
       "      <td>2.76</td>\n",
       "    </tr>\n",
       "    <tr>\n",
       "      <th>299</th>\n",
       "      <td>J</td>\n",
       "      <td>14045</td>\n",
       "      <td>46.84</td>\n",
       "      <td>9.91</td>\n",
       "      <td>15.50</td>\n",
       "      <td>2.27</td>\n",
       "      <td>0.57</td>\n",
       "      <td>25.48</td>\n",
       "      <td>2.81</td>\n",
       "    </tr>\n",
       "  </tbody>\n",
       "</table>\n",
       "<p>300 rows × 9 columns</p>\n",
       "</div>"
      ],
      "text/plain": [
       "    brand     id   mois   prot    fat   ash  sodium   carb   cal\n",
       "0       A  14069  27.82  21.43  44.87  5.11    1.77   0.77  4.93\n",
       "1       A  14053  28.49  21.26  43.89  5.34    1.79   1.02  4.84\n",
       "2       A  14025  28.35  19.99  45.78  5.08    1.63   0.80  4.95\n",
       "3       A  14016  30.55  20.15  43.13  4.79    1.61   1.38  4.74\n",
       "4       A  14005  30.49  21.28  41.65  4.82    1.64   1.76  4.67\n",
       "..    ...    ...    ...    ...    ...   ...     ...    ...   ...\n",
       "295     J  34044  44.91  11.07  17.00  2.49    0.66  25.36  2.91\n",
       "296     J  24069  43.15  11.79  18.46  2.43    0.67  24.17  3.10\n",
       "297     J  34039  44.55  11.01  16.03  2.43    0.64  25.98  2.92\n",
       "298     J  14044  47.60  10.43  15.18  2.32    0.56  24.47  2.76\n",
       "299     J  14045  46.84   9.91  15.50  2.27    0.57  25.48  2.81\n",
       "\n",
       "[300 rows x 9 columns]"
      ]
     },
     "execution_count": 2,
     "metadata": {},
     "output_type": "execute_result"
    }
   ],
   "source": [
    "dataorig=pd.read_csv(\"Pizza.csv\")#lectura del csv\n",
    "dataorig"
   ]
  },
  {
   "cell_type": "code",
   "execution_count": 3,
   "metadata": {},
   "outputs": [
    {
     "data": {
      "text/plain": [
       "brand  id     mois   prot   fat    ash   sodium  carb   cal \n",
       "H      24089  35.74  7.86   14.27  1.40  0.44    40.73  3.23    2\n",
       "J      14045  46.84  9.91   15.50  2.27  0.57    25.48  2.81    2\n",
       "E      14126  37.78  8.30   13.05  1.64  0.49    39.23  3.08    2\n",
       "J      14044  47.60  10.43  15.18  2.32  0.56    24.47  2.76    2\n",
       "E      24110  37.34  7.33   19.61  1.60  0.45    34.12  3.42    2\n",
       "                                                               ..\n",
       "G      24047  29.06  8.46   14.12  1.47  0.47    46.89  3.48    1\n",
       "       24059  25.00  8.49   16.87  1.45  0.47    48.19  3.79    1\n",
       "       24119  27.16  8.27   14.68  1.79  0.46    48.10  3.58    1\n",
       "       24121  28.33  8.17   13.64  1.45  0.47    48.41  3.49    1\n",
       "A      14005  30.49  21.28  41.65  4.82  1.64    1.76   4.67    1\n",
       "Length: 295, dtype: int64"
      ]
     },
     "execution_count": 3,
     "metadata": {},
     "output_type": "execute_result"
    }
   ],
   "source": [
    "dataorig.value_counts()#miramos los distintos valores de los datos"
   ]
  },
  {
   "cell_type": "code",
   "execution_count": 4,
   "metadata": {},
   "outputs": [
    {
     "name": "stdout",
     "output_type": "stream",
     "text": [
      "<class 'pandas.core.frame.DataFrame'>\n",
      "RangeIndex: 300 entries, 0 to 299\n",
      "Data columns (total 9 columns):\n",
      " #   Column  Non-Null Count  Dtype  \n",
      "---  ------  --------------  -----  \n",
      " 0   brand   300 non-null    object \n",
      " 1   id      300 non-null    int64  \n",
      " 2   mois    300 non-null    float64\n",
      " 3   prot    300 non-null    float64\n",
      " 4   fat     300 non-null    float64\n",
      " 5   ash     300 non-null    float64\n",
      " 6   sodium  300 non-null    float64\n",
      " 7   carb    300 non-null    float64\n",
      " 8   cal     300 non-null    float64\n",
      "dtypes: float64(7), int64(1), object(1)\n",
      "memory usage: 21.2+ KB\n"
     ]
    }
   ],
   "source": [
    "dataorig.info()#missing values"
   ]
  },
  {
   "cell_type": "code",
   "execution_count": 5,
   "metadata": {},
   "outputs": [
    {
     "data": {
      "text/plain": [
       "Index(['brand', 'id', 'mois', 'prot', 'fat', 'ash', 'sodium', 'carb', 'cal'], dtype='object')"
      ]
     },
     "execution_count": 5,
     "metadata": {},
     "output_type": "execute_result"
    }
   ],
   "source": [
    "dataorig.columns#mostramos el nombre de las columnas"
   ]
  },
  {
   "cell_type": "code",
   "execution_count": 6,
   "metadata": {},
   "outputs": [],
   "source": [
    "data=dataorig[['mois', 'prot', 'fat', 'ash', 'sodium', 'carb', 'cal']]"
   ]
  },
  {
   "cell_type": "markdown",
   "metadata": {},
   "source": [
    "Escogemos solo las variables que se utilicen para el PCA.\n",
    "En este caso el id no tiene relevancia y brand es la variable para la cual se calcula el PCA."
   ]
  },
  {
   "cell_type": "code",
   "execution_count": 7,
   "metadata": {},
   "outputs": [],
   "source": [
    "nombresvar=data.columns#guardamos los nombres de las columnas dentro de nombrees var"
   ]
  },
  {
   "cell_type": "markdown",
   "metadata": {},
   "source": [
    "# 1. Lo primero que habrá que hacer será estandarizar los datos para que las diferencias de rango no supongan un problema a la hora de procesar la información. Usa para ello el método StandardScaler de la librería scikit-learn."
   ]
  },
  {
   "cell_type": "code",
   "execution_count": 8,
   "metadata": {
    "scrolled": true
   },
   "outputs": [
    {
     "data": {
      "text/plain": [
       "array([[-1.37181459,  1.25418127,  2.74984143, ...,  2.97668662,\n",
       "        -1.22751105,  2.68012924],\n",
       "       [-1.30156227,  1.22771661,  2.64047481, ...,  3.03077869,\n",
       "        -1.21362189,  2.53473344],\n",
       "       [-1.31624186,  1.03000998,  2.85139615, ...,  2.59804213,\n",
       "        -1.22584435,  2.71243942],\n",
       "       ...,\n",
       "       [ 0.3823963 , -0.36794707, -0.46866201, ..., -0.07951534,\n",
       "         0.1730719 , -0.56704362],\n",
       "       [ 0.70220164, -0.45823828, -0.56352082, ..., -0.29588362,\n",
       "         0.08918137, -0.82552504],\n",
       "       [ 0.62251244, -0.53918903, -0.52780927, ..., -0.26883759,\n",
       "         0.14529358, -0.7447496 ]])"
      ]
     },
     "execution_count": 8,
     "metadata": {},
     "output_type": "execute_result"
    }
   ],
   "source": [
    "#Uso del scaler\n",
    "scaler=sk.preprocessing.StandardScaler()\n",
    "data=scaler.fit_transform(data) \n",
    "data"
   ]
  },
  {
   "cell_type": "markdown",
   "metadata": {},
   "source": [
    "# 2. El segundo paso será a partir de los datos anteriores, obtener los autovalores (eigenvalues) y los autovectores (eigenvectors) que nos permitan explicar cuántos componentes necesitamos para representar los datos iniciales. Para ello primer habrá que obtener la matriz de covarianza mediante el método cov de numpy y después aplicarle a dicha matriz el método linalg.eig también de numpy. Obten un DataFrame con el porcentaje de varianza y el acumulado por cada componente. Explica que quieren decir estosdatos. ¿Cuánto información perdemos con 2 componentes? ¿Cuánta información representamos con 3 componentes?"
   ]
  },
  {
   "cell_type": "code",
   "execution_count": 9,
   "metadata": {},
   "outputs": [
    {
     "data": {
      "text/plain": [
       "array([[ 1.00334448,  0.36145252, -0.17189118,  0.26644367, -0.10262097,\n",
       "        -0.59378092, -0.7669972 ],\n",
       "       [ 0.36145252,  1.00334448,  0.49966723,  0.82659903,  0.43056473,\n",
       "        -0.85639691,  0.07049308],\n",
       "       [-0.17189118,  0.49966723,  1.00334448,  0.79428157,  0.93644671,\n",
       "        -0.64237943,  0.76712418],\n",
       "       [ 0.26644367,  0.82659903,  0.79428157,  1.00334448,  0.8108249 ,\n",
       "        -0.90199502,  0.32756032],\n",
       "       [-0.10262097,  0.43056473,  0.93644671,  0.8108249 ,  1.00334448,\n",
       "        -0.6222505 ,  0.67420485],\n",
       "       [-0.59378092, -0.85639691, -0.64237943, -0.90199502, -0.6222505 ,\n",
       "         1.00334448, -0.02356313],\n",
       "       [-0.7669972 ,  0.07049308,  0.76712418,  0.32756032,  0.67420485,\n",
       "        -0.02356313,  1.00334448]])"
      ]
     },
     "execution_count": 9,
     "metadata": {},
     "output_type": "execute_result"
    }
   ],
   "source": [
    "#Matriz de covarianza.\n",
    "#Para ello usamos la traspuesta como se muestra en la libreri\n",
    "matrizcov=np.cov(data.T)\n",
    "matrizcov"
   ]
  },
  {
   "cell_type": "code",
   "execution_count": 10,
   "metadata": {},
   "outputs": [
    {
     "name": "stdout",
     "output_type": "stream",
     "text": [
      "eigenvalues: [4.18573434e+00 2.29811778e+00 4.15948838e-01 9.54925358e-02\n",
      " 2.77695834e-02 3.38738483e-04 9.55061572e-06]\n",
      "eigenvectors: [[ 6.47093729e-02  6.28275866e-01 -4.21668945e-01 -2.20721584e-01\n",
      "   6.47029345e-03 -4.46449902e-01 -4.18569035e-01]\n",
      " [ 3.78760904e-01  2.69706650e-01  7.46027442e-01 -1.05931982e-02\n",
      "   3.87982788e-01  1.71520299e-04 -2.76764643e-01]\n",
      " [ 4.46665915e-01 -2.34379085e-01 -1.99308714e-01 -5.07042158e-01\n",
      "  -1.73367634e-01  5.25402868e-01 -3.77671525e-01]\n",
      " [ 4.71889526e-01  1.10990417e-01  5.62726863e-02  5.52398549e-01\n",
      "  -6.70885701e-01 -5.88609281e-02 -5.60214003e-02]\n",
      " [ 4.35702887e-01 -2.01661652e-01 -4.55168874e-01  4.46276890e-01\n",
      "   6.02614079e-01 -3.13098518e-03  5.24323817e-04]\n",
      " [-4.24913712e-01 -3.20312078e-01  5.22365058e-02  3.34339481e-01\n",
      "  -7.43689883e-03  5.08853525e-04 -7.76067911e-01]\n",
      " [ 2.44487304e-01 -5.67457559e-01  1.13315588e-01 -2.79263154e-01\n",
      "  -7.80031747e-02 -7.21913853e-01 -1.20598098e-02]]\n"
     ]
    }
   ],
   "source": [
    "#Esta funcion devuelve un array con los autovalores y los autovectores\n",
    "values, vectors = np.linalg.eig(matrizcov)\n",
    "print('eigenvalues:',values)\n",
    "print('eigenvectors:',vectors)"
   ]
  },
  {
   "cell_type": "code",
   "execution_count": 11,
   "metadata": {},
   "outputs": [],
   "source": [
    "#Como los autovalores no se pueden repetir solo nos quedamos con los unicos\n",
    "values=np.unique(values)\n",
    "#Invertimos el orden de los autovalores\n",
    "values=np.flip(values)"
   ]
  },
  {
   "cell_type": "code",
   "execution_count": 12,
   "metadata": {},
   "outputs": [
    {
     "data": {
      "text/plain": [
       "7"
      ]
     },
     "execution_count": 12,
     "metadata": {},
     "output_type": "execute_result"
    }
   ],
   "source": [
    "len(values)"
   ]
  },
  {
   "cell_type": "markdown",
   "metadata": {},
   "source": [
    "Como hay 7 autovalores hay 7 componentes que coincide con el numero de datos que tenemos"
   ]
  },
  {
   "cell_type": "code",
   "execution_count": 13,
   "metadata": {},
   "outputs": [],
   "source": [
    "#Creamos dataframe donde se guardaran la informacion del porcentaje de varianza y del acumulado\n",
    "dataframe = pd.DataFrame(columns=['componente','varianza'])"
   ]
  },
  {
   "cell_type": "code",
   "execution_count": 14,
   "metadata": {},
   "outputs": [],
   "source": [
    "#Porcentaje de varianza siguiendo la formula de los apuntes\n",
    "# (autovalor *100 / sumatorio de los autovalores)\n",
    "for i in range(0,len(values)):\n",
    "    #Utilizamos la formula\n",
    "    varianza=(values[i]*100)/sum(values)\n",
    "    #Añadimos los datos al dataframe\n",
    "    dataframe = dataframe.append({'componente': i, 'varianza' : varianza}, ignore_index=True)\n",
    "#Creamos columna que hace referencia a la varianza acumulada\n",
    "dataframe['varianza acumulada']=dataframe['varianza'].cumsum()"
   ]
  },
  {
   "cell_type": "code",
   "execution_count": 15,
   "metadata": {},
   "outputs": [
    {
     "data": {
      "text/html": [
       "<div>\n",
       "<style scoped>\n",
       "    .dataframe tbody tr th:only-of-type {\n",
       "        vertical-align: middle;\n",
       "    }\n",
       "\n",
       "    .dataframe tbody tr th {\n",
       "        vertical-align: top;\n",
       "    }\n",
       "\n",
       "    .dataframe thead th {\n",
       "        text-align: right;\n",
       "    }\n",
       "</style>\n",
       "<table border=\"1\" class=\"dataframe\">\n",
       "  <thead>\n",
       "    <tr style=\"text-align: right;\">\n",
       "      <th></th>\n",
       "      <th>componente</th>\n",
       "      <th>varianza</th>\n",
       "      <th>varianza acumulada</th>\n",
       "    </tr>\n",
       "  </thead>\n",
       "  <tbody>\n",
       "    <tr>\n",
       "      <th>0</th>\n",
       "      <td>0.0</td>\n",
       "      <td>59.596884</td>\n",
       "      <td>59.596884</td>\n",
       "    </tr>\n",
       "    <tr>\n",
       "      <th>1</th>\n",
       "      <td>1.0</td>\n",
       "      <td>32.720820</td>\n",
       "      <td>92.317704</td>\n",
       "    </tr>\n",
       "    <tr>\n",
       "      <th>2</th>\n",
       "      <td>2.0</td>\n",
       "      <td>5.922319</td>\n",
       "      <td>98.240023</td>\n",
       "    </tr>\n",
       "    <tr>\n",
       "      <th>3</th>\n",
       "      <td>3.0</td>\n",
       "      <td>1.359632</td>\n",
       "      <td>99.599655</td>\n",
       "    </tr>\n",
       "    <tr>\n",
       "      <th>4</th>\n",
       "      <td>4.0</td>\n",
       "      <td>0.395386</td>\n",
       "      <td>99.995041</td>\n",
       "    </tr>\n",
       "    <tr>\n",
       "      <th>5</th>\n",
       "      <td>5.0</td>\n",
       "      <td>0.004823</td>\n",
       "      <td>99.999864</td>\n",
       "    </tr>\n",
       "    <tr>\n",
       "      <th>6</th>\n",
       "      <td>6.0</td>\n",
       "      <td>0.000136</td>\n",
       "      <td>100.000000</td>\n",
       "    </tr>\n",
       "  </tbody>\n",
       "</table>\n",
       "</div>"
      ],
      "text/plain": [
       "   componente   varianza  varianza acumulada\n",
       "0         0.0  59.596884           59.596884\n",
       "1         1.0  32.720820           92.317704\n",
       "2         2.0   5.922319           98.240023\n",
       "3         3.0   1.359632           99.599655\n",
       "4         4.0   0.395386           99.995041\n",
       "5         5.0   0.004823           99.999864\n",
       "6         6.0   0.000136          100.000000"
      ]
     },
     "execution_count": 15,
     "metadata": {},
     "output_type": "execute_result"
    }
   ],
   "source": [
    "dataframe"
   ]
  },
  {
   "cell_type": "markdown",
   "metadata": {},
   "source": [
    "## Explica que quieren decir estos datos."
   ]
  },
  {
   "cell_type": "markdown",
   "metadata": {},
   "source": [
    "Este dataframe contiene la informacion de la varianza y de la varianza acumulada en funcion del numero de componentes se utilizan. \n",
    "* La columna de la varianza indica la informacion que cada componente aporta\n",
    "* La varianza acumulada dado que se trata de la suma de las filas anteriores indica la informacion que aportan este componente y todos los anteriores"
   ]
  },
  {
   "cell_type": "markdown",
   "metadata": {},
   "source": [
    "##  ¿Cuánto información perdemos con 2 componentes? "
   ]
  },
  {
   "cell_type": "markdown",
   "metadata": {},
   "source": [
    "Teniendo en cuenta que la columna de la varianza acumulada indica cuanta informacion obtenemos en funcion del numero de componentes podemos concluir la informacion que representa el uso de n componentes y ,por lo tanto, tambien la informacion que se pierde. "
   ]
  },
  {
   "cell_type": "code",
   "execution_count": 16,
   "metadata": {},
   "outputs": [
    {
     "name": "stdout",
     "output_type": "stream",
     "text": [
      "Informacion que representamos con 2 componentes: 92.31770406002875%\n",
      "Informacion que perdemos con 2 componentes: 7.6822959399712545%\n"
     ]
    }
   ],
   "source": [
    "print('Informacion que representamos con 2 componentes: '+ str(dataframe['varianza acumulada'].loc[1])+'%')\n",
    "print('Informacion que perdemos con 2 componentes: '+ str(100-dataframe['varianza acumulada'].loc[1])+'%')"
   ]
  },
  {
   "cell_type": "markdown",
   "metadata": {},
   "source": [
    "##  ¿Cuánto información representamos con 3 componentes? "
   ]
  },
  {
   "cell_type": "code",
   "execution_count": 17,
   "metadata": {},
   "outputs": [
    {
     "name": "stdout",
     "output_type": "stream",
     "text": [
      "Informacion que representamos con 3 componentes: 98.24002323541897%\n",
      "Informacion que perdemos con 3 componentes: 1.759976764581026%\n"
     ]
    }
   ],
   "source": [
    "print('Informacion que representamos con 3 componentes: '+ str(dataframe['varianza acumulada'].loc[2])+'%')\n",
    "print('Informacion que perdemos con 3 componentes: '+ str(100-dataframe['varianza acumulada'].loc[2])+'%')"
   ]
  },
  {
   "cell_type": "markdown",
   "metadata": {},
   "source": [
    "# 3. Por último queremos representar gráficamente los individuos de nuestro dataset, pero usando los valores de las componentes principales obtenidas. Obtén un diagrama de dispersión en 2 dimensiones y comenta que has interpretado en él. Es necesario que el diagrama contenga toda la información necesaria. Habrá que interpreta que información proporciona el eje X y el eje Y. Por último, elegir al menos 4 individuos y explicar qué pasa con ellos."
   ]
  },
  {
   "cell_type": "markdown",
   "metadata": {},
   "source": [
    "Para crear el dataframe con los valores de los componentes principales y la informacion de los individuos haremos uso de los eigenvectors."
   ]
  },
  {
   "cell_type": "code",
   "execution_count": 18,
   "metadata": {},
   "outputs": [
    {
     "data": {
      "text/html": [
       "<div>\n",
       "<style scoped>\n",
       "    .dataframe tbody tr th:only-of-type {\n",
       "        vertical-align: middle;\n",
       "    }\n",
       "\n",
       "    .dataframe tbody tr th {\n",
       "        vertical-align: top;\n",
       "    }\n",
       "\n",
       "    .dataframe thead th {\n",
       "        text-align: right;\n",
       "    }\n",
       "</style>\n",
       "<table border=\"1\" class=\"dataframe\">\n",
       "  <thead>\n",
       "    <tr style=\"text-align: right;\">\n",
       "      <th></th>\n",
       "      <th>0</th>\n",
       "      <th>1</th>\n",
       "      <th>2</th>\n",
       "      <th>3</th>\n",
       "      <th>4</th>\n",
       "      <th>5</th>\n",
       "      <th>6</th>\n",
       "    </tr>\n",
       "  </thead>\n",
       "  <tbody>\n",
       "    <tr>\n",
       "      <th>0</th>\n",
       "      <td>-1.371815</td>\n",
       "      <td>1.254181</td>\n",
       "      <td>2.749841</td>\n",
       "      <td>1.953894</td>\n",
       "      <td>2.976687</td>\n",
       "      <td>-1.227511</td>\n",
       "      <td>2.680129</td>\n",
       "    </tr>\n",
       "    <tr>\n",
       "      <th>1</th>\n",
       "      <td>-1.301562</td>\n",
       "      <td>1.227717</td>\n",
       "      <td>2.640475</td>\n",
       "      <td>2.135338</td>\n",
       "      <td>3.030779</td>\n",
       "      <td>-1.213622</td>\n",
       "      <td>2.534733</td>\n",
       "    </tr>\n",
       "    <tr>\n",
       "      <th>2</th>\n",
       "      <td>-1.316242</td>\n",
       "      <td>1.030010</td>\n",
       "      <td>2.851396</td>\n",
       "      <td>1.930227</td>\n",
       "      <td>2.598042</td>\n",
       "      <td>-1.225844</td>\n",
       "      <td>2.712439</td>\n",
       "    </tr>\n",
       "    <tr>\n",
       "      <th>3</th>\n",
       "      <td>-1.085563</td>\n",
       "      <td>1.054918</td>\n",
       "      <td>2.555660</td>\n",
       "      <td>1.701449</td>\n",
       "      <td>2.543950</td>\n",
       "      <td>-1.193622</td>\n",
       "      <td>2.373183</td>\n",
       "    </tr>\n",
       "    <tr>\n",
       "      <th>4</th>\n",
       "      <td>-1.091854</td>\n",
       "      <td>1.230830</td>\n",
       "      <td>2.390494</td>\n",
       "      <td>1.725116</td>\n",
       "      <td>2.625088</td>\n",
       "      <td>-1.172510</td>\n",
       "      <td>2.260097</td>\n",
       "    </tr>\n",
       "    <tr>\n",
       "      <th>...</th>\n",
       "      <td>...</td>\n",
       "      <td>...</td>\n",
       "      <td>...</td>\n",
       "      <td>...</td>\n",
       "      <td>...</td>\n",
       "      <td>...</td>\n",
       "      <td>...</td>\n",
       "    </tr>\n",
       "    <tr>\n",
       "      <th>295</th>\n",
       "      <td>0.420144</td>\n",
       "      <td>-0.358607</td>\n",
       "      <td>-0.360411</td>\n",
       "      <td>-0.112995</td>\n",
       "      <td>-0.025423</td>\n",
       "      <td>0.138627</td>\n",
       "      <td>-0.583199</td>\n",
       "    </tr>\n",
       "    <tr>\n",
       "      <th>296</th>\n",
       "      <td>0.235600</td>\n",
       "      <td>-0.246521</td>\n",
       "      <td>-0.197477</td>\n",
       "      <td>-0.160329</td>\n",
       "      <td>0.001623</td>\n",
       "      <td>0.072514</td>\n",
       "      <td>-0.276252</td>\n",
       "    </tr>\n",
       "    <tr>\n",
       "      <th>297</th>\n",
       "      <td>0.382396</td>\n",
       "      <td>-0.367947</td>\n",
       "      <td>-0.468662</td>\n",
       "      <td>-0.160329</td>\n",
       "      <td>-0.079515</td>\n",
       "      <td>0.173072</td>\n",
       "      <td>-0.567044</td>\n",
       "    </tr>\n",
       "    <tr>\n",
       "      <th>298</th>\n",
       "      <td>0.702202</td>\n",
       "      <td>-0.458238</td>\n",
       "      <td>-0.563521</td>\n",
       "      <td>-0.247106</td>\n",
       "      <td>-0.295884</td>\n",
       "      <td>0.089181</td>\n",
       "      <td>-0.825525</td>\n",
       "    </tr>\n",
       "    <tr>\n",
       "      <th>299</th>\n",
       "      <td>0.622512</td>\n",
       "      <td>-0.539189</td>\n",
       "      <td>-0.527809</td>\n",
       "      <td>-0.286551</td>\n",
       "      <td>-0.268838</td>\n",
       "      <td>0.145294</td>\n",
       "      <td>-0.744750</td>\n",
       "    </tr>\n",
       "  </tbody>\n",
       "</table>\n",
       "<p>300 rows × 7 columns</p>\n",
       "</div>"
      ],
      "text/plain": [
       "            0         1         2         3         4         5         6\n",
       "0   -1.371815  1.254181  2.749841  1.953894  2.976687 -1.227511  2.680129\n",
       "1   -1.301562  1.227717  2.640475  2.135338  3.030779 -1.213622  2.534733\n",
       "2   -1.316242  1.030010  2.851396  1.930227  2.598042 -1.225844  2.712439\n",
       "3   -1.085563  1.054918  2.555660  1.701449  2.543950 -1.193622  2.373183\n",
       "4   -1.091854  1.230830  2.390494  1.725116  2.625088 -1.172510  2.260097\n",
       "..        ...       ...       ...       ...       ...       ...       ...\n",
       "295  0.420144 -0.358607 -0.360411 -0.112995 -0.025423  0.138627 -0.583199\n",
       "296  0.235600 -0.246521 -0.197477 -0.160329  0.001623  0.072514 -0.276252\n",
       "297  0.382396 -0.367947 -0.468662 -0.160329 -0.079515  0.173072 -0.567044\n",
       "298  0.702202 -0.458238 -0.563521 -0.247106 -0.295884  0.089181 -0.825525\n",
       "299  0.622512 -0.539189 -0.527809 -0.286551 -0.268838  0.145294 -0.744750\n",
       "\n",
       "[300 rows x 7 columns]"
      ]
     },
     "execution_count": 18,
     "metadata": {},
     "output_type": "execute_result"
    }
   ],
   "source": [
    "#Convertimos los datos del scaler en un dataframe\n",
    "dataindividuos=pd.DataFrame(data) \n",
    "dataindividuos"
   ]
  },
  {
   "cell_type": "code",
   "execution_count": 19,
   "metadata": {},
   "outputs": [
    {
     "data": {
      "text/html": [
       "<div>\n",
       "<style scoped>\n",
       "    .dataframe tbody tr th:only-of-type {\n",
       "        vertical-align: middle;\n",
       "    }\n",
       "\n",
       "    .dataframe tbody tr th {\n",
       "        vertical-align: top;\n",
       "    }\n",
       "\n",
       "    .dataframe thead th {\n",
       "        text-align: right;\n",
       "    }\n",
       "</style>\n",
       "<table border=\"1\" class=\"dataframe\">\n",
       "  <thead>\n",
       "    <tr style=\"text-align: right;\">\n",
       "      <th></th>\n",
       "      <th>0</th>\n",
       "      <th>1</th>\n",
       "      <th>2</th>\n",
       "      <th>3</th>\n",
       "      <th>4</th>\n",
       "      <th>5</th>\n",
       "      <th>6</th>\n",
       "    </tr>\n",
       "  </thead>\n",
       "  <tbody>\n",
       "    <tr>\n",
       "      <th>0</th>\n",
       "      <td>0.064709</td>\n",
       "      <td>0.628276</td>\n",
       "      <td>-0.421669</td>\n",
       "      <td>-0.220722</td>\n",
       "      <td>0.006470</td>\n",
       "      <td>-0.446450</td>\n",
       "      <td>-0.418569</td>\n",
       "    </tr>\n",
       "    <tr>\n",
       "      <th>1</th>\n",
       "      <td>0.378761</td>\n",
       "      <td>0.269707</td>\n",
       "      <td>0.746027</td>\n",
       "      <td>-0.010593</td>\n",
       "      <td>0.387983</td>\n",
       "      <td>0.000172</td>\n",
       "      <td>-0.276765</td>\n",
       "    </tr>\n",
       "    <tr>\n",
       "      <th>2</th>\n",
       "      <td>0.446666</td>\n",
       "      <td>-0.234379</td>\n",
       "      <td>-0.199309</td>\n",
       "      <td>-0.507042</td>\n",
       "      <td>-0.173368</td>\n",
       "      <td>0.525403</td>\n",
       "      <td>-0.377672</td>\n",
       "    </tr>\n",
       "    <tr>\n",
       "      <th>3</th>\n",
       "      <td>0.471890</td>\n",
       "      <td>0.110990</td>\n",
       "      <td>0.056273</td>\n",
       "      <td>0.552399</td>\n",
       "      <td>-0.670886</td>\n",
       "      <td>-0.058861</td>\n",
       "      <td>-0.056021</td>\n",
       "    </tr>\n",
       "    <tr>\n",
       "      <th>4</th>\n",
       "      <td>0.435703</td>\n",
       "      <td>-0.201662</td>\n",
       "      <td>-0.455169</td>\n",
       "      <td>0.446277</td>\n",
       "      <td>0.602614</td>\n",
       "      <td>-0.003131</td>\n",
       "      <td>0.000524</td>\n",
       "    </tr>\n",
       "    <tr>\n",
       "      <th>5</th>\n",
       "      <td>-0.424914</td>\n",
       "      <td>-0.320312</td>\n",
       "      <td>0.052237</td>\n",
       "      <td>0.334339</td>\n",
       "      <td>-0.007437</td>\n",
       "      <td>0.000509</td>\n",
       "      <td>-0.776068</td>\n",
       "    </tr>\n",
       "    <tr>\n",
       "      <th>6</th>\n",
       "      <td>0.244487</td>\n",
       "      <td>-0.567458</td>\n",
       "      <td>0.113316</td>\n",
       "      <td>-0.279263</td>\n",
       "      <td>-0.078003</td>\n",
       "      <td>-0.721914</td>\n",
       "      <td>-0.012060</td>\n",
       "    </tr>\n",
       "  </tbody>\n",
       "</table>\n",
       "</div>"
      ],
      "text/plain": [
       "          0         1         2         3         4         5         6\n",
       "0  0.064709  0.628276 -0.421669 -0.220722  0.006470 -0.446450 -0.418569\n",
       "1  0.378761  0.269707  0.746027 -0.010593  0.387983  0.000172 -0.276765\n",
       "2  0.446666 -0.234379 -0.199309 -0.507042 -0.173368  0.525403 -0.377672\n",
       "3  0.471890  0.110990  0.056273  0.552399 -0.670886 -0.058861 -0.056021\n",
       "4  0.435703 -0.201662 -0.455169  0.446277  0.602614 -0.003131  0.000524\n",
       "5 -0.424914 -0.320312  0.052237  0.334339 -0.007437  0.000509 -0.776068\n",
       "6  0.244487 -0.567458  0.113316 -0.279263 -0.078003 -0.721914 -0.012060"
      ]
     },
     "execution_count": 19,
     "metadata": {},
     "output_type": "execute_result"
    }
   ],
   "source": [
    "#Convertimos los datos de los eigenvectores en un dataframe\n",
    "datavectors=pd.DataFrame(vectors) \n",
    "datavectors"
   ]
  },
  {
   "cell_type": "code",
   "execution_count": 20,
   "metadata": {},
   "outputs": [
    {
     "data": {
      "text/plain": [
       "numpy.ndarray"
      ]
     },
     "execution_count": 20,
     "metadata": {},
     "output_type": "execute_result"
    }
   ],
   "source": [
    "type(data)#Miramos el tipo de datos para saber si se pueden multiplicar"
   ]
  },
  {
   "cell_type": "code",
   "execution_count": 21,
   "metadata": {},
   "outputs": [
    {
     "data": {
      "text/plain": [
       "numpy.ndarray"
      ]
     },
     "execution_count": 21,
     "metadata": {},
     "output_type": "execute_result"
    }
   ],
   "source": [
    "type(vectors)#Miramos el tipo de datos para saber si se pueden multiplicar"
   ]
  },
  {
   "cell_type": "code",
   "execution_count": 22,
   "metadata": {},
   "outputs": [
    {
     "name": "stdout",
     "output_type": "stream",
     "text": [
      "<class 'pandas.core.frame.DataFrame'>\n",
      "RangeIndex: 300 entries, 0 to 299\n",
      "Data columns (total 7 columns):\n",
      " #   Column  Non-Null Count  Dtype  \n",
      "---  ------  --------------  -----  \n",
      " 0   0       300 non-null    float64\n",
      " 1   1       300 non-null    float64\n",
      " 2   2       300 non-null    float64\n",
      " 3   3       300 non-null    float64\n",
      " 4   4       300 non-null    float64\n",
      " 5   5       300 non-null    float64\n",
      " 6   6       300 non-null    float64\n",
      "dtypes: float64(7)\n",
      "memory usage: 16.5 KB\n"
     ]
    }
   ],
   "source": [
    "dataindividuos.info()#missing values"
   ]
  },
  {
   "cell_type": "code",
   "execution_count": 23,
   "metadata": {},
   "outputs": [
    {
     "name": "stdout",
     "output_type": "stream",
     "text": [
      "<class 'pandas.core.frame.DataFrame'>\n",
      "RangeIndex: 7 entries, 0 to 6\n",
      "Data columns (total 7 columns):\n",
      " #   Column  Non-Null Count  Dtype  \n",
      "---  ------  --------------  -----  \n",
      " 0   0       7 non-null      float64\n",
      " 1   1       7 non-null      float64\n",
      " 2   2       7 non-null      float64\n",
      " 3   3       7 non-null      float64\n",
      " 4   4       7 non-null      float64\n",
      " 5   5       7 non-null      float64\n",
      " 6   6       7 non-null      float64\n",
      "dtypes: float64(7)\n",
      "memory usage: 520.0 bytes\n"
     ]
    }
   ],
   "source": [
    "datavectors.info()#missing values"
   ]
  },
  {
   "cell_type": "code",
   "execution_count": 24,
   "metadata": {},
   "outputs": [
    {
     "data": {
      "text/plain": [
       "<AxesSubplot:title={'center':'Diagrama de dispersion del componente 0 y 1'}, xlabel='0', ylabel='1'>"
      ]
     },
     "execution_count": 24,
     "metadata": {},
     "output_type": "execute_result"
    },
    {
     "data": {
      "image/png": "[encoded data removed]",
      "text/plain": [
       "<Figure size 432x288 with 1 Axes>"
      ]
     },
     "metadata": {
      "needs_background": "light"
     },
     "output_type": "display_data"
    }
   ],
   "source": [
    "datavectors.plot(0,1,'scatter',title='Diagrama de dispersion del componente 0 y 1')"
   ]
  },
  {
   "cell_type": "markdown",
   "metadata": {},
   "source": [
    "Multiplicamos las matrices para poder utilizar los datos de los individuos y los datos de los componentes principales."
   ]
  },
  {
   "cell_type": "code",
   "execution_count": 25,
   "metadata": {},
   "outputs": [
    {
     "data": {
      "text/html": [
       "<div>\n",
       "<style scoped>\n",
       "    .dataframe tbody tr th:only-of-type {\n",
       "        vertical-align: middle;\n",
       "    }\n",
       "\n",
       "    .dataframe tbody tr th {\n",
       "        vertical-align: top;\n",
       "    }\n",
       "\n",
       "    .dataframe thead th {\n",
       "        text-align: right;\n",
       "    }\n",
       "</style>\n",
       "<table border=\"1\" class=\"dataframe\">\n",
       "  <thead>\n",
       "    <tr style=\"text-align: right;\">\n",
       "      <th></th>\n",
       "      <th>0</th>\n",
       "      <th>1</th>\n",
       "      <th>2</th>\n",
       "      <th>3</th>\n",
       "      <th>4</th>\n",
       "      <th>5</th>\n",
       "      <th>6</th>\n",
       "    </tr>\n",
       "  </thead>\n",
       "  <tbody>\n",
       "    <tr>\n",
       "      <th>0</th>\n",
       "      <td>5.010343</td>\n",
       "      <td>-2.679215</td>\n",
       "      <td>-0.039327</td>\n",
       "      <td>0.144106</td>\n",
       "      <td>0.284015</td>\n",
       "      <td>-0.002339</td>\n",
       "      <td>0.000960</td>\n",
       "    </tr>\n",
       "    <tr>\n",
       "      <th>1</th>\n",
       "      <td>5.023755</td>\n",
       "      <td>-2.529295</td>\n",
       "      <td>-0.097056</td>\n",
       "      <td>0.353950</td>\n",
       "      <td>0.215269</td>\n",
       "      <td>0.002952</td>\n",
       "      <td>0.001022</td>\n",
       "    </tr>\n",
       "    <tr>\n",
       "      <th>2</th>\n",
       "      <td>4.805439</td>\n",
       "      <td>-2.673700</td>\n",
       "      <td>-0.075475</td>\n",
       "      <td>-0.107798</td>\n",
       "      <td>-0.035038</td>\n",
       "      <td>0.005424</td>\n",
       "      <td>0.000832</td>\n",
       "    </tr>\n",
       "    <tr>\n",
       "      <th>3</th>\n",
       "      <td>4.469543</td>\n",
       "      <td>-2.285029</td>\n",
       "      <td>-0.120233</td>\n",
       "      <td>-0.054028</td>\n",
       "      <td>0.174501</td>\n",
       "      <td>0.005627</td>\n",
       "      <td>0.000946</td>\n",
       "    </tr>\n",
       "    <tr>\n",
       "      <th>4</th>\n",
       "      <td>4.471893</td>\n",
       "      <td>-2.159152</td>\n",
       "      <td>-0.000738</td>\n",
       "      <td>0.117166</td>\n",
       "      <td>0.313027</td>\n",
       "      <td>0.001689</td>\n",
       "      <td>0.000968</td>\n",
       "    </tr>\n",
       "    <tr>\n",
       "      <th>...</th>\n",
       "      <td>...</td>\n",
       "      <td>...</td>\n",
       "      <td>...</td>\n",
       "      <td>...</td>\n",
       "      <td>...</td>\n",
       "      <td>...</td>\n",
       "      <td>...</td>\n",
       "    </tr>\n",
       "    <tr>\n",
       "      <th>295</th>\n",
       "      <td>-0.535510</td>\n",
       "      <td>0.530843</td>\n",
       "      <td>-0.426490</td>\n",
       "      <td>0.229258</td>\n",
       "      <td>0.031016</td>\n",
       "      <td>0.050825</td>\n",
       "      <td>-0.034726</td>\n",
       "    </tr>\n",
       "    <tr>\n",
       "      <th>296</th>\n",
       "      <td>-0.339636</td>\n",
       "      <td>0.243230</td>\n",
       "      <td>-0.281174</td>\n",
       "      <td>0.064289</td>\n",
       "      <td>0.069664</td>\n",
       "      <td>-0.000082</td>\n",
       "      <td>0.000233</td>\n",
       "    </tr>\n",
       "    <tr>\n",
       "      <th>297</th>\n",
       "      <td>-0.646433</td>\n",
       "      <td>0.515434</td>\n",
       "      <td>-0.370378</td>\n",
       "      <td>0.249294</td>\n",
       "      <td>0.043557</td>\n",
       "      <td>0.002110</td>\n",
       "      <td>0.000239</td>\n",
       "    </tr>\n",
       "    <tr>\n",
       "      <th>298</th>\n",
       "      <td>-0.865078</td>\n",
       "      <td>0.921790</td>\n",
       "      <td>-0.493755</td>\n",
       "      <td>0.127400</td>\n",
       "      <td>-0.024342</td>\n",
       "      <td>0.001823</td>\n",
       "      <td>0.000163</td>\n",
       "    </tr>\n",
       "    <tr>\n",
       "      <th>299</th>\n",
       "      <td>-0.895868</td>\n",
       "      <td>0.767878</td>\n",
       "      <td>-0.530108</td>\n",
       "      <td>0.114224</td>\n",
       "      <td>-0.026413</td>\n",
       "      <td>0.000102</td>\n",
       "      <td>0.000138</td>\n",
       "    </tr>\n",
       "  </tbody>\n",
       "</table>\n",
       "<p>300 rows × 7 columns</p>\n",
       "</div>"
      ],
      "text/plain": [
       "            0         1         2         3         4         5         6\n",
       "0    5.010343 -2.679215 -0.039327  0.144106  0.284015 -0.002339  0.000960\n",
       "1    5.023755 -2.529295 -0.097056  0.353950  0.215269  0.002952  0.001022\n",
       "2    4.805439 -2.673700 -0.075475 -0.107798 -0.035038  0.005424  0.000832\n",
       "3    4.469543 -2.285029 -0.120233 -0.054028  0.174501  0.005627  0.000946\n",
       "4    4.471893 -2.159152 -0.000738  0.117166  0.313027  0.001689  0.000968\n",
       "..        ...       ...       ...       ...       ...       ...       ...\n",
       "295 -0.535510  0.530843 -0.426490  0.229258  0.031016  0.050825 -0.034726\n",
       "296 -0.339636  0.243230 -0.281174  0.064289  0.069664 -0.000082  0.000233\n",
       "297 -0.646433  0.515434 -0.370378  0.249294  0.043557  0.002110  0.000239\n",
       "298 -0.865078  0.921790 -0.493755  0.127400 -0.024342  0.001823  0.000163\n",
       "299 -0.895868  0.767878 -0.530108  0.114224 -0.026413  0.000102  0.000138\n",
       "\n",
       "[300 rows x 7 columns]"
      ]
     },
     "execution_count": 25,
     "metadata": {},
     "output_type": "execute_result"
    }
   ],
   "source": [
    "datafinal=dataindividuos.dot(datavectors)\n",
    "datafinal"
   ]
  },
  {
   "cell_type": "markdown",
   "metadata": {},
   "source": [
    "Dado que se nos pide que se cree un diagrama de dos dimensiones hay que utilizar dos componentes, que corresponde con las dos primeras columnas."
   ]
  },
  {
   "cell_type": "code",
   "execution_count": 26,
   "metadata": {},
   "outputs": [
    {
     "data": {
      "text/plain": [
       "<AxesSubplot:title={'center':'Diagrama de dispersion del componente 0 y 1'}, xlabel='0', ylabel='1'>"
      ]
     },
     "execution_count": 26,
     "metadata": {},
     "output_type": "execute_result"
    },
    {
     "data": {
      "image/png": "[encoded data removed]",
      "text/plain": [
       "<Figure size 432x288 with 1 Axes>"
      ]
     },
     "metadata": {
      "needs_background": "light"
     },
     "output_type": "display_data"
    }
   ],
   "source": [
    "datafinal.plot(0,1,'scatter',title='Diagrama de dispersion del componente 0 y 1')"
   ]
  },
  {
   "cell_type": "code",
   "execution_count": 27,
   "metadata": {},
   "outputs": [
    {
     "data": {
      "text/plain": [
       "Index(['mois', 'prot', 'fat', 'ash', 'sodium', 'carb', 'cal'], dtype='object')"
      ]
     },
     "execution_count": 27,
     "metadata": {},
     "output_type": "execute_result"
    }
   ],
   "source": [
    "nombresvar"
   ]
  },
  {
   "cell_type": "markdown",
   "metadata": {},
   "source": [
    "En este diagrama podemos ver 4 grupos bien diferenciados ya sea por valores altos de la componente 0 como de la componente 1.\n",
    "Y el componente 0 pintado en el eje x quizas puede representar la cantidad de calorias que tienen las pizzas, mientras que, el componente 1 pintado en el eje y puede representar la cantidad de proteina o la cantidad de ash o sodio.\n",
    "\n",
    "Dado que en el caso de que las variables que representen sea calorias e hidratos de carbono o calorias y fats estarian mas relacionadas. Ya que por ejemplo 1 gramo de grasa son 9 calorias a diferencia de la proteina que son 4 calorias."
   ]
  },
  {
   "cell_type": "markdown",
   "metadata": {},
   "source": [
    "### Por último, elegir al menos 4 individuos y explicar qué pasa con ellos."
   ]
  },
  {
   "cell_type": "code",
   "execution_count": 28,
   "metadata": {},
   "outputs": [
    {
     "data": {
      "text/html": [
       "<div>\n",
       "<style scoped>\n",
       "    .dataframe tbody tr th:only-of-type {\n",
       "        vertical-align: middle;\n",
       "    }\n",
       "\n",
       "    .dataframe tbody tr th {\n",
       "        vertical-align: top;\n",
       "    }\n",
       "\n",
       "    .dataframe thead th {\n",
       "        text-align: right;\n",
       "    }\n",
       "</style>\n",
       "<table border=\"1\" class=\"dataframe\">\n",
       "  <thead>\n",
       "    <tr style=\"text-align: right;\">\n",
       "      <th></th>\n",
       "      <th>0</th>\n",
       "      <th>1</th>\n",
       "    </tr>\n",
       "  </thead>\n",
       "  <tbody>\n",
       "    <tr>\n",
       "      <th>0</th>\n",
       "      <td>5.010343</td>\n",
       "      <td>-2.679215</td>\n",
       "    </tr>\n",
       "    <tr>\n",
       "      <th>1</th>\n",
       "      <td>5.023755</td>\n",
       "      <td>-2.529295</td>\n",
       "    </tr>\n",
       "    <tr>\n",
       "      <th>2</th>\n",
       "      <td>4.805439</td>\n",
       "      <td>-2.673700</td>\n",
       "    </tr>\n",
       "    <tr>\n",
       "      <th>3</th>\n",
       "      <td>4.469543</td>\n",
       "      <td>-2.285029</td>\n",
       "    </tr>\n",
       "  </tbody>\n",
       "</table>\n",
       "</div>"
      ],
      "text/plain": [
       "          0         1\n",
       "0  5.010343 -2.679215\n",
       "1  5.023755 -2.529295\n",
       "2  4.805439 -2.673700\n",
       "3  4.469543 -2.285029"
      ]
     },
     "execution_count": 28,
     "metadata": {},
     "output_type": "execute_result"
    }
   ],
   "source": [
    "#Seleccionamos a los 4 individuos con los dos componentes\n",
    "datatest=datafinal[[0,1]].head(4)\n",
    "datatest"
   ]
  },
  {
   "cell_type": "code",
   "execution_count": 29,
   "metadata": {},
   "outputs": [
    {
     "data": {
      "text/plain": [
       "<AxesSubplot:title={'center':'Diagrama de dispersion del componente 0 y 1'}, xlabel='0', ylabel='1'>"
      ]
     },
     "execution_count": 29,
     "metadata": {},
     "output_type": "execute_result"
    },
    {
     "data": {
      "image/png": "[encoded data removed]",
      "text/plain": [
       "<Figure size 432x288 with 1 Axes>"
      ]
     },
     "metadata": {
      "needs_background": "light"
     },
     "output_type": "display_data"
    }
   ],
   "source": [
    "datatest.plot(0,1,'scatter',title='Diagrama de dispersion del componente 0 y 1')"
   ]
  },
  {
   "cell_type": "code",
   "execution_count": 30,
   "metadata": {},
   "outputs": [
    {
     "data": {
      "text/plain": [
       "-0.7793635200712113"
      ]
     },
     "execution_count": 30,
     "metadata": {},
     "output_type": "execute_result"
    }
   ],
   "source": [
    "r = np.corrcoef(datatest[0], datatest[1])[1][0]\n",
    "r"
   ]
  },
  {
   "cell_type": "markdown",
   "metadata": {},
   "source": [
    "Podemos ver en este caso como los datos son bastante extremos, es decir, el valor del componente 0 y el del componente 1 difieren mucho.\n",
    "Ademas tras calcular el coeficiente de pearson podemos darnos cuenta que tienen una correlacion negativa bastante alta por lo que se podria afirmar que son inversamente proporcionales.\n",
    "\n",
    "Por lo tanto la hipotesis de que las variables que representan son las calorias y las proteinas es erronea dado que en este caso la relacion seria positiva no negativa\n",
    "En conclusión en el caso de que uno de los dos componentes sean las calorias el otro no puede ser ni las fats, ni los carbs, ni la proteina dado que entonces la relacion seria lineal positiva no negativa."
   ]
  },
  {
   "cell_type": "markdown",
   "metadata": {},
   "source": [
    "# 4. Realiza los mismos pasos que en los pasos anteriores usando la librería scikit-learn. Compara los resultados y coméntalos."
   ]
  },
  {
   "cell_type": "code",
   "execution_count": 31,
   "metadata": {},
   "outputs": [],
   "source": [
    "#Utilizamos PCA de la libreria sklearn\n",
    "# con numero de componentes que es el numero de variables \n",
    "pca=sk.decomposition.PCA(n_components=len(nombresvar)) \n",
    "# fit de los datos, este data es el que ya se ha estandarizado con el scaler\n",
    "pca.fit(data) \n",
    "#Transformamos los datos\n",
    "datapca=pca.transform(data) "
   ]
  },
  {
   "cell_type": "code",
   "execution_count": 32,
   "metadata": {},
   "outputs": [
    {
     "data": {
      "text/html": [
       "<div>\n",
       "<style scoped>\n",
       "    .dataframe tbody tr th:only-of-type {\n",
       "        vertical-align: middle;\n",
       "    }\n",
       "\n",
       "    .dataframe tbody tr th {\n",
       "        vertical-align: top;\n",
       "    }\n",
       "\n",
       "    .dataframe thead th {\n",
       "        text-align: right;\n",
       "    }\n",
       "</style>\n",
       "<table border=\"1\" class=\"dataframe\">\n",
       "  <thead>\n",
       "    <tr style=\"text-align: right;\">\n",
       "      <th></th>\n",
       "      <th>varianza</th>\n",
       "      <th>varianza acumulada</th>\n",
       "      <th>Componente</th>\n",
       "    </tr>\n",
       "  </thead>\n",
       "  <tbody>\n",
       "    <tr>\n",
       "      <th>0</th>\n",
       "      <td>0.595969</td>\n",
       "      <td>0.595969</td>\n",
       "      <td>0</td>\n",
       "    </tr>\n",
       "    <tr>\n",
       "      <th>1</th>\n",
       "      <td>0.327208</td>\n",
       "      <td>0.923177</td>\n",
       "      <td>1</td>\n",
       "    </tr>\n",
       "    <tr>\n",
       "      <th>2</th>\n",
       "      <td>0.059223</td>\n",
       "      <td>0.982400</td>\n",
       "      <td>2</td>\n",
       "    </tr>\n",
       "    <tr>\n",
       "      <th>3</th>\n",
       "      <td>0.013596</td>\n",
       "      <td>0.995997</td>\n",
       "      <td>3</td>\n",
       "    </tr>\n",
       "    <tr>\n",
       "      <th>4</th>\n",
       "      <td>0.003954</td>\n",
       "      <td>0.999950</td>\n",
       "      <td>4</td>\n",
       "    </tr>\n",
       "    <tr>\n",
       "      <th>5</th>\n",
       "      <td>0.000048</td>\n",
       "      <td>0.999999</td>\n",
       "      <td>5</td>\n",
       "    </tr>\n",
       "    <tr>\n",
       "      <th>6</th>\n",
       "      <td>0.000001</td>\n",
       "      <td>1.000000</td>\n",
       "      <td>6</td>\n",
       "    </tr>\n",
       "  </tbody>\n",
       "</table>\n",
       "</div>"
      ],
      "text/plain": [
       "   varianza  varianza acumulada  Componente\n",
       "0  0.595969            0.595969           0\n",
       "1  0.327208            0.923177           1\n",
       "2  0.059223            0.982400           2\n",
       "3  0.013596            0.995997           3\n",
       "4  0.003954            0.999950           4\n",
       "5  0.000048            0.999999           5\n",
       "6  0.000001            1.000000           6"
      ]
     },
     "execution_count": 32,
     "metadata": {},
     "output_type": "execute_result"
    }
   ],
   "source": [
    "#Guardamos la varianza de los componentes en un dataframe\n",
    "varianza=pca.explained_variance_ratio_\n",
    "dataframepca=pd.DataFrame(varianza,columns=['varianza']) \n",
    "dataframepca['varianza acumulada']=dataframepca['varianza'].cumsum()\n",
    "dataframepca['Componente']=range(0,7)\n",
    "dataframepca"
   ]
  },
  {
   "cell_type": "code",
   "execution_count": 33,
   "metadata": {},
   "outputs": [
    {
     "data": {
      "text/html": [
       "<div>\n",
       "<style scoped>\n",
       "    .dataframe tbody tr th:only-of-type {\n",
       "        vertical-align: middle;\n",
       "    }\n",
       "\n",
       "    .dataframe tbody tr th {\n",
       "        vertical-align: top;\n",
       "    }\n",
       "\n",
       "    .dataframe thead th {\n",
       "        text-align: right;\n",
       "    }\n",
       "</style>\n",
       "<table border=\"1\" class=\"dataframe\">\n",
       "  <thead>\n",
       "    <tr style=\"text-align: right;\">\n",
       "      <th></th>\n",
       "      <th>componente</th>\n",
       "      <th>varianza</th>\n",
       "      <th>varianza acumulada</th>\n",
       "    </tr>\n",
       "  </thead>\n",
       "  <tbody>\n",
       "    <tr>\n",
       "      <th>0</th>\n",
       "      <td>0.0</td>\n",
       "      <td>59.596884</td>\n",
       "      <td>59.596884</td>\n",
       "    </tr>\n",
       "    <tr>\n",
       "      <th>1</th>\n",
       "      <td>1.0</td>\n",
       "      <td>32.720820</td>\n",
       "      <td>92.317704</td>\n",
       "    </tr>\n",
       "    <tr>\n",
       "      <th>2</th>\n",
       "      <td>2.0</td>\n",
       "      <td>5.922319</td>\n",
       "      <td>98.240023</td>\n",
       "    </tr>\n",
       "    <tr>\n",
       "      <th>3</th>\n",
       "      <td>3.0</td>\n",
       "      <td>1.359632</td>\n",
       "      <td>99.599655</td>\n",
       "    </tr>\n",
       "    <tr>\n",
       "      <th>4</th>\n",
       "      <td>4.0</td>\n",
       "      <td>0.395386</td>\n",
       "      <td>99.995041</td>\n",
       "    </tr>\n",
       "    <tr>\n",
       "      <th>5</th>\n",
       "      <td>5.0</td>\n",
       "      <td>0.004823</td>\n",
       "      <td>99.999864</td>\n",
       "    </tr>\n",
       "    <tr>\n",
       "      <th>6</th>\n",
       "      <td>6.0</td>\n",
       "      <td>0.000136</td>\n",
       "      <td>100.000000</td>\n",
       "    </tr>\n",
       "  </tbody>\n",
       "</table>\n",
       "</div>"
      ],
      "text/plain": [
       "   componente   varianza  varianza acumulada\n",
       "0         0.0  59.596884           59.596884\n",
       "1         1.0  32.720820           92.317704\n",
       "2         2.0   5.922319           98.240023\n",
       "3         3.0   1.359632           99.599655\n",
       "4         4.0   0.395386           99.995041\n",
       "5         5.0   0.004823           99.999864\n",
       "6         6.0   0.000136          100.000000"
      ]
     },
     "execution_count": 33,
     "metadata": {},
     "output_type": "execute_result"
    }
   ],
   "source": [
    "dataframe#Data sin utilizar sklearn"
   ]
  },
  {
   "cell_type": "markdown",
   "metadata": {},
   "source": [
    "Podemos ver que no se ha alejado mucho de lo obtenido previmente."
   ]
  },
  {
   "cell_type": "markdown",
   "metadata": {},
   "source": [
    "##  ¿Cuánto información perdemos con 2 componentes? "
   ]
  },
  {
   "cell_type": "code",
   "execution_count": 34,
   "metadata": {},
   "outputs": [
    {
     "name": "stdout",
     "output_type": "stream",
     "text": [
      "Informacion que representamos con 2 componentes: 0.9231770406002875%\n",
      "Informacion que perdemos con 2 componentes: 0.07682295939971251%\n"
     ]
    }
   ],
   "source": [
    "#En este caso los datos estan normalizados\n",
    "print('Informacion que representamos con 2 componentes: '+ str(dataframepca['varianza acumulada'].loc[1])+'%')\n",
    "print('Informacion que perdemos con 2 componentes: '+ str(1-dataframepca['varianza acumulada'].loc[1])+'%')"
   ]
  },
  {
   "cell_type": "markdown",
   "metadata": {},
   "source": [
    "##  ¿Cuánto información representamos con 3 componentes? "
   ]
  },
  {
   "cell_type": "code",
   "execution_count": 35,
   "metadata": {},
   "outputs": [
    {
     "name": "stdout",
     "output_type": "stream",
     "text": [
      "Informacion que representamos con 3 componentes: 0.9824002323541897%\n",
      "Informacion que perdemos con 3 componentes: 0.017599767645810283%\n"
     ]
    }
   ],
   "source": [
    "#En este caso los datos estan normalizados\n",
    "print('Informacion que representamos con 3 componentes: '+ str(dataframepca['varianza acumulada'].loc[2])+'%')\n",
    "print('Informacion que perdemos con 3 componentes: '+ str(1-dataframepca['varianza acumulada'].loc[2])+'%')"
   ]
  },
  {
   "cell_type": "markdown",
   "metadata": {},
   "source": [
    "### 3. Por último queremos representar gráficamente los individuos de nuestro dataset, pero usando los valores de las componentes principales obtenidas. Obtén un diagrama de dispersión en 2 dimensiones y comenta que has interpretado en él. Es necesario que el diagrama contenga toda la información necesaria. Habrá que interpreta que información proporciona el eje X y el eje Y. Por último, elegir al menos 4 individuos y explicar qué pasa con ellos."
   ]
  },
  {
   "cell_type": "code",
   "execution_count": 36,
   "metadata": {},
   "outputs": [
    {
     "data": {
      "text/plain": [
       "array([[ 5.01034284e+00,  2.67921532e+00, -3.93268132e-02, ...,\n",
       "        -2.84015338e-01,  2.33883199e-03, -9.60239802e-04],\n",
       "       [ 5.02375538e+00,  2.52929455e+00, -9.70564299e-02, ...,\n",
       "        -2.15268884e-01, -2.95190997e-03, -1.02204030e-03],\n",
       "       [ 4.80543930e+00,  2.67370033e+00, -7.54750714e-02, ...,\n",
       "         3.50375561e-02, -5.42367516e-03, -8.31756992e-04],\n",
       "       ...,\n",
       "       [-6.46432696e-01, -5.15433604e-01, -3.70378252e-01, ...,\n",
       "        -4.35570456e-02, -2.11048891e-03, -2.38808704e-04],\n",
       "       [-8.65078270e-01, -9.21790425e-01, -4.93755001e-01, ...,\n",
       "         2.43420521e-02, -1.82275203e-03, -1.63034757e-04],\n",
       "       [-8.95868414e-01, -7.67878473e-01, -5.30107575e-01, ...,\n",
       "         2.64133916e-02, -1.01749397e-04, -1.38425944e-04]])"
      ]
     },
     "execution_count": 36,
     "metadata": {},
     "output_type": "execute_result"
    }
   ],
   "source": [
    "datapca"
   ]
  },
  {
   "cell_type": "code",
   "execution_count": 37,
   "metadata": {},
   "outputs": [
    {
     "data": {
      "text/html": [
       "<div>\n",
       "<style scoped>\n",
       "    .dataframe tbody tr th:only-of-type {\n",
       "        vertical-align: middle;\n",
       "    }\n",
       "\n",
       "    .dataframe tbody tr th {\n",
       "        vertical-align: top;\n",
       "    }\n",
       "\n",
       "    .dataframe thead th {\n",
       "        text-align: right;\n",
       "    }\n",
       "</style>\n",
       "<table border=\"1\" class=\"dataframe\">\n",
       "  <thead>\n",
       "    <tr style=\"text-align: right;\">\n",
       "      <th></th>\n",
       "      <th>0</th>\n",
       "      <th>1</th>\n",
       "      <th>2</th>\n",
       "      <th>3</th>\n",
       "      <th>4</th>\n",
       "      <th>5</th>\n",
       "      <th>6</th>\n",
       "    </tr>\n",
       "  </thead>\n",
       "  <tbody>\n",
       "    <tr>\n",
       "      <th>0</th>\n",
       "      <td>5.010343</td>\n",
       "      <td>2.679215</td>\n",
       "      <td>-0.039327</td>\n",
       "      <td>0.144106</td>\n",
       "      <td>-0.284015</td>\n",
       "      <td>0.002339</td>\n",
       "      <td>-0.000960</td>\n",
       "    </tr>\n",
       "    <tr>\n",
       "      <th>1</th>\n",
       "      <td>5.023755</td>\n",
       "      <td>2.529295</td>\n",
       "      <td>-0.097056</td>\n",
       "      <td>0.353950</td>\n",
       "      <td>-0.215269</td>\n",
       "      <td>-0.002952</td>\n",
       "      <td>-0.001022</td>\n",
       "    </tr>\n",
       "    <tr>\n",
       "      <th>2</th>\n",
       "      <td>4.805439</td>\n",
       "      <td>2.673700</td>\n",
       "      <td>-0.075475</td>\n",
       "      <td>-0.107798</td>\n",
       "      <td>0.035038</td>\n",
       "      <td>-0.005424</td>\n",
       "      <td>-0.000832</td>\n",
       "    </tr>\n",
       "    <tr>\n",
       "      <th>3</th>\n",
       "      <td>4.469543</td>\n",
       "      <td>2.285029</td>\n",
       "      <td>-0.120233</td>\n",
       "      <td>-0.054028</td>\n",
       "      <td>-0.174501</td>\n",
       "      <td>-0.005627</td>\n",
       "      <td>-0.000946</td>\n",
       "    </tr>\n",
       "    <tr>\n",
       "      <th>4</th>\n",
       "      <td>4.471893</td>\n",
       "      <td>2.159152</td>\n",
       "      <td>-0.000738</td>\n",
       "      <td>0.117166</td>\n",
       "      <td>-0.313027</td>\n",
       "      <td>-0.001689</td>\n",
       "      <td>-0.000968</td>\n",
       "    </tr>\n",
       "    <tr>\n",
       "      <th>...</th>\n",
       "      <td>...</td>\n",
       "      <td>...</td>\n",
       "      <td>...</td>\n",
       "      <td>...</td>\n",
       "      <td>...</td>\n",
       "      <td>...</td>\n",
       "      <td>...</td>\n",
       "    </tr>\n",
       "    <tr>\n",
       "      <th>295</th>\n",
       "      <td>-0.535510</td>\n",
       "      <td>-0.530843</td>\n",
       "      <td>-0.426490</td>\n",
       "      <td>0.229258</td>\n",
       "      <td>-0.031016</td>\n",
       "      <td>-0.050825</td>\n",
       "      <td>0.034726</td>\n",
       "    </tr>\n",
       "    <tr>\n",
       "      <th>296</th>\n",
       "      <td>-0.339636</td>\n",
       "      <td>-0.243230</td>\n",
       "      <td>-0.281174</td>\n",
       "      <td>0.064289</td>\n",
       "      <td>-0.069664</td>\n",
       "      <td>0.000082</td>\n",
       "      <td>-0.000233</td>\n",
       "    </tr>\n",
       "    <tr>\n",
       "      <th>297</th>\n",
       "      <td>-0.646433</td>\n",
       "      <td>-0.515434</td>\n",
       "      <td>-0.370378</td>\n",
       "      <td>0.249294</td>\n",
       "      <td>-0.043557</td>\n",
       "      <td>-0.002110</td>\n",
       "      <td>-0.000239</td>\n",
       "    </tr>\n",
       "    <tr>\n",
       "      <th>298</th>\n",
       "      <td>-0.865078</td>\n",
       "      <td>-0.921790</td>\n",
       "      <td>-0.493755</td>\n",
       "      <td>0.127400</td>\n",
       "      <td>0.024342</td>\n",
       "      <td>-0.001823</td>\n",
       "      <td>-0.000163</td>\n",
       "    </tr>\n",
       "    <tr>\n",
       "      <th>299</th>\n",
       "      <td>-0.895868</td>\n",
       "      <td>-0.767878</td>\n",
       "      <td>-0.530108</td>\n",
       "      <td>0.114224</td>\n",
       "      <td>0.026413</td>\n",
       "      <td>-0.000102</td>\n",
       "      <td>-0.000138</td>\n",
       "    </tr>\n",
       "  </tbody>\n",
       "</table>\n",
       "<p>300 rows × 7 columns</p>\n",
       "</div>"
      ],
      "text/plain": [
       "            0         1         2         3         4         5         6\n",
       "0    5.010343  2.679215 -0.039327  0.144106 -0.284015  0.002339 -0.000960\n",
       "1    5.023755  2.529295 -0.097056  0.353950 -0.215269 -0.002952 -0.001022\n",
       "2    4.805439  2.673700 -0.075475 -0.107798  0.035038 -0.005424 -0.000832\n",
       "3    4.469543  2.285029 -0.120233 -0.054028 -0.174501 -0.005627 -0.000946\n",
       "4    4.471893  2.159152 -0.000738  0.117166 -0.313027 -0.001689 -0.000968\n",
       "..        ...       ...       ...       ...       ...       ...       ...\n",
       "295 -0.535510 -0.530843 -0.426490  0.229258 -0.031016 -0.050825  0.034726\n",
       "296 -0.339636 -0.243230 -0.281174  0.064289 -0.069664  0.000082 -0.000233\n",
       "297 -0.646433 -0.515434 -0.370378  0.249294 -0.043557 -0.002110 -0.000239\n",
       "298 -0.865078 -0.921790 -0.493755  0.127400  0.024342 -0.001823 -0.000163\n",
       "299 -0.895868 -0.767878 -0.530108  0.114224  0.026413 -0.000102 -0.000138\n",
       "\n",
       "[300 rows x 7 columns]"
      ]
     },
     "execution_count": 37,
     "metadata": {},
     "output_type": "execute_result"
    }
   ],
   "source": [
    "#Transformamos los datos en un dataframe para poder representar\n",
    "dataframepca1=pd.DataFrame(datapca) \n",
    "dataframepca1"
   ]
  },
  {
   "cell_type": "code",
   "execution_count": 38,
   "metadata": {},
   "outputs": [
    {
     "data": {
      "text/plain": [
       "<AxesSubplot:xlabel='0', ylabel='1'>"
      ]
     },
     "execution_count": 38,
     "metadata": {},
     "output_type": "execute_result"
    },
    {
     "data": {
      "image/png": "[encoded data removed]",
      "text/plain": [
       "<Figure size 432x288 with 1 Axes>"
      ]
     },
     "metadata": {
      "needs_background": "light"
     },
     "output_type": "display_data"
    }
   ],
   "source": [
    "#Representamos los dos componentes\n",
    "dataframepca1.plot(0,1,'scatter')"
   ]
  },
  {
   "cell_type": "markdown",
   "metadata": {},
   "source": [
    "Podemos ver que la grafica tampoco varia mucho."
   ]
  },
  {
   "cell_type": "markdown",
   "metadata": {},
   "source": [
    "En este diagrama a diferencia del otro podemos ver como el componente 1 y el componente 2 estan muy relacionados dado que a mayor valor de x mayor valor de y, en este caso si que el componente 1 podria ser las calorias y el componente 2 podria ser fat."
   ]
  },
  {
   "cell_type": "markdown",
   "metadata": {},
   "source": [
    "### Por último, elegir al menos 4 individuos y explicar qué pasa con ellos."
   ]
  },
  {
   "cell_type": "code",
   "execution_count": 39,
   "metadata": {},
   "outputs": [
    {
     "data": {
      "text/html": [
       "<div>\n",
       "<style scoped>\n",
       "    .dataframe tbody tr th:only-of-type {\n",
       "        vertical-align: middle;\n",
       "    }\n",
       "\n",
       "    .dataframe tbody tr th {\n",
       "        vertical-align: top;\n",
       "    }\n",
       "\n",
       "    .dataframe thead th {\n",
       "        text-align: right;\n",
       "    }\n",
       "</style>\n",
       "<table border=\"1\" class=\"dataframe\">\n",
       "  <thead>\n",
       "    <tr style=\"text-align: right;\">\n",
       "      <th></th>\n",
       "      <th>0</th>\n",
       "      <th>1</th>\n",
       "    </tr>\n",
       "  </thead>\n",
       "  <tbody>\n",
       "    <tr>\n",
       "      <th>0</th>\n",
       "      <td>5.010343</td>\n",
       "      <td>2.679215</td>\n",
       "    </tr>\n",
       "    <tr>\n",
       "      <th>1</th>\n",
       "      <td>5.023755</td>\n",
       "      <td>2.529295</td>\n",
       "    </tr>\n",
       "    <tr>\n",
       "      <th>2</th>\n",
       "      <td>4.805439</td>\n",
       "      <td>2.673700</td>\n",
       "    </tr>\n",
       "    <tr>\n",
       "      <th>3</th>\n",
       "      <td>4.469543</td>\n",
       "      <td>2.285029</td>\n",
       "    </tr>\n",
       "  </tbody>\n",
       "</table>\n",
       "</div>"
      ],
      "text/plain": [
       "          0         1\n",
       "0  5.010343  2.679215\n",
       "1  5.023755  2.529295\n",
       "2  4.805439  2.673700\n",
       "3  4.469543  2.285029"
      ]
     },
     "execution_count": 39,
     "metadata": {},
     "output_type": "execute_result"
    }
   ],
   "source": [
    "#Seleccionamos a los 4 individuos con los dos componentes\n",
    "datatest=dataframepca1[[0,1]].head(4)\n",
    "datatest"
   ]
  },
  {
   "cell_type": "code",
   "execution_count": 40,
   "metadata": {},
   "outputs": [
    {
     "data": {
      "text/plain": [
       "<AxesSubplot:title={'center':'Diagrama de dispersion del componente 0 y 1'}, xlabel='0', ylabel='1'>"
      ]
     },
     "execution_count": 40,
     "metadata": {},
     "output_type": "execute_result"
    },
    {
     "data": {
      "image/png": "[encoded data removed]",
      "text/plain": [
       "<Figure size 432x288 with 1 Axes>"
      ]
     },
     "metadata": {
      "needs_background": "light"
     },
     "output_type": "display_data"
    }
   ],
   "source": [
    "datatest.plot(0,1,'scatter',title='Diagrama de dispersion del componente 0 y 1')"
   ]
  },
  {
   "cell_type": "code",
   "execution_count": 41,
   "metadata": {},
   "outputs": [
    {
     "data": {
      "text/plain": [
       "0.7793635200712097"
      ]
     },
     "execution_count": 41,
     "metadata": {},
     "output_type": "execute_result"
    }
   ],
   "source": [
    "r = np.corrcoef(datatest[0], datatest[1])[1][0]\n",
    "r"
   ]
  },
  {
   "cell_type": "markdown",
   "metadata": {},
   "source": [
    "Como he explicado anteriormente, en este caso el componente 1 y el componente 2 estan muy relacionados y este se ha demostrado dado que tiene un coeficiente de pearson elevado y ademas es positivo por lo que se podria afirmar que son directamente proporcionales.\n",
    "Es decir a mayor valor del componente 0 mayor valor del componente 1."
   ]
  },
  {
   "cell_type": "markdown",
   "metadata": {},
   "source": [
    "La diferencia entre las dos graficas es que la que no se ha realizado con sklearn tenia un pearson igual pero negativo por lo que las variables estaban inversamente relacionadas, a diferencia de este caso."
   ]
  },
  {
   "cell_type": "markdown",
   "metadata": {},
   "source": [
    "# Referencias\n",
    "https://scikit-learn.org/stable/modules/generated/sklearn.preprocessing.StandardScaler.html\n",
    "https://numpy.org/doc/stable/reference/generated/numpy.cov.html\n",
    "https://numpy.org/doc/stable/reference/generated/numpy.linalg.eig.html\n",
    "https://pandas.pydata.org/pandas-docs/stable/reference/api/pandas.DataFrame.html\n",
    "https://scikit-learn.org/stable/modules/generated/sklearn.decomposition.PCA.html"
   ]
  }
 ],
 "metadata": {
  "kernelspec": {
   "display_name": "Python 3",
   "language": "python",
   "name": "python3"
  },
  "language_info": {
   "codemirror_mode": {
    "name": "ipython",
    "version": 3
   },
   "file_extension": ".py",
   "mimetype": "text/x-python",
   "name": "python",
   "nbconvert_exporter": "python",
   "pygments_lexer": "ipython3",
   "version": "3.8.5"
  }
 },
 "nbformat": 4,
 "nbformat_minor": 4
}
